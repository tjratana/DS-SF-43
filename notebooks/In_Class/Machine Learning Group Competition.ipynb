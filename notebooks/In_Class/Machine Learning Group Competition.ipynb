{
 "cells": [
  {
   "cell_type": "markdown",
   "metadata": {},
   "source": [
    "# The Machine Learning Group Challenge!"
   ]
  },
  {
   "cell_type": "markdown",
   "metadata": {},
   "source": [
    "##  Today's Mission\n",
    "- Your objective is to devise the best possible model to predict successful/default loans using a preprocessed version of the Lending Club loan dataset.\n",
    "\n",
    "- Class into divided into 2 groups.\n",
    "\n",
    "- The training data is 13689 loans labeled either as 1 (successful) or 0 (default). Comes with 30 categorical and numerical features. The testing data is also 13689 loans.\n",
    "\n",
    "- A data dictionary file is included as well. It is a table explaining each what each feature means.\n",
    "\n",
    "- Groups will judged on how much money their model makes. You will evaluate your model on the testing dataset. You cannot used testing data to train a model.\n",
    "\n",
    "- Your profit will be determined by the amount of money you make from correctly predicting good loans (loan amount * interest rate/100.) subtracted by the money you lose from incorrectly predicting bad loans as good (-loan amount). I have given a function to calculate that.\n",
    "\n",
    "- Finding the correct probability threshold will be super key in determing how much money you make.\n",
    "\n",
    "- **VERY IMPORTANT:** You must transform your testing the data the same way you did your training data. So make sure you have the same columns in the same order.\n",
    "        \n",
    "- Stewart and I will be on be hand for guidance. However I want you to primarily use your teammates for help. \n",
    "\n",
    "- Use all the tools at your disposal, try all the models we've learned in class. Refer to past class notebooks for help. Be sure to use modeling evaluating techniques such as ROC curves, confusion matrix, recall/precision, etc.\n",
    "\n",
    "- I recommend starting off simple by using a small number of features\n",
    "\n",
    "- To optimize model, find the right combination of features and the right model with the right parameters. Get creative!\n",
    "\n",
    "- Remember to use your time wisely, it will go by fast. Communicate amongst yourselves often.\n",
    "   "
   ]
  },
  {
   "cell_type": "markdown",
   "metadata": {},
   "source": [
    "### Online resources on Lending Club loan data\n",
    "Kaggle Page: https://www.kaggle.com/wendykan/lending-club-loan-data. Make sure to check out the kernels section.\n",
    "\n",
    "Y Hat tutorial (It's in R, but its still useful): http://blog.yhat.com/posts/machine-learning-for-predicting-bad-loans.html\n",
    "\n",
    "Blog tutorial on the data from Kevin Davenport: http://kldavenport.com/lending-club-data-analysis-revisted-with-python/\n",
    "\n"
   ]
  },
  {
   "cell_type": "markdown",
   "metadata": {},
   "source": [
    "### Class Time\n",
    "No class breaks. But individual breaks are allowed of course.\n",
    "\n",
    "- 6:30 - 7:00\n",
    "    - Feature engineering/selection: make dummy variables, dropping features, scaling, and other methods of transforming data. \n",
    "    - Exploratory data analysis aka get to know your features time.\n",
    "    \n",
    "    \n",
    "- 7:00 - 8:45\n",
    "    - Modeling time!!\n",
    "    \n",
    "    \n",
    "- 8:45 - 9:25\n",
    "    - Model testing.\n",
    "    \n",
    "    \n",
    "- 9:25 - 9:30\n",
    "    - Winner decision. Exit tickets."
   ]
  },
  {
   "cell_type": "code",
   "execution_count": null,
   "metadata": {},
   "outputs": [],
   "source": []
  },
  {
   "cell_type": "code",
   "execution_count": null,
   "metadata": {},
   "outputs": [],
   "source": [
    "#Imports and set pandas options\n",
    "import pandas as pd\n",
    "import numpy as np\n",
    "import matplotlib.pyplot as plt\n",
    "%matplotlib inline\n",
    "import seaborn as sb\n",
    "pd.set_option(\"max.columns\", 100)\n",
    "pd.set_option(\"max.colwidth\", 100)"
   ]
  },
  {
   "cell_type": "code",
   "execution_count": null,
   "metadata": {},
   "outputs": [],
   "source": [
    "# Load in training data.\n",
    "# Loan_status column is the target variable. Remember to drop it from df.\n",
    "train = pd.read_csv(\"../../data/lending_club/challenge_training_data.csv\")\n",
    "train.head(2)"
   ]
  },
  {
   "cell_type": "code",
   "execution_count": null,
   "metadata": {},
   "outputs": [],
   "source": [
    "#Load in data dictionary\n",
    "data_dict = pd.read_csv(\"../../data/lending_club/the_data_dictionary.csv\")\n",
    "data_dict.head()"
   ]
  },
  {
   "cell_type": "code",
   "execution_count": null,
   "metadata": {},
   "outputs": [],
   "source": []
  },
  {
   "cell_type": "code",
   "execution_count": null,
   "metadata": {},
   "outputs": [],
   "source": [
    "#Load in test data when you're ready \n",
    "# test = pd.read_csv(\"../../data/lending_club/challenge_testing_data.csv\")\n"
   ]
  },
  {
   "cell_type": "markdown",
   "metadata": {},
   "source": [
    "Here is the threshold function. Input your probabilities for class 1 and set a probability threshold of your choice. The default threshold is 0.5. The output will be 1's and 0s, 1 values for all the values that are greater or equal to your predetermined threshold value."
   ]
  },
  {
   "cell_type": "code",
   "execution_count": null,
   "metadata": {},
   "outputs": [],
   "source": [
    "\n",
    "def threshold(probs, thres = 0.5):\n",
    "    output = np.where(probs >= thres, 1, 0)\n",
    "    return output"
   ]
  },
  {
   "cell_type": "markdown",
   "metadata": {},
   "source": [
    "This is the profit function. It takes in a dataframe with the loan_amnt, int_rate, target variable, and class predictions values.\n",
    "\n",
    "- It first checks to see if a row has 0 in the outcome column and 1 in the predicted (false positive) and returns the negative value of the loan_amnt. This is how much money you lost for loans that mean that condition.\n",
    "\n",
    "- Then it checks for true positives, meaning conditions where both the target and predicted values equal 1, then return the loan_amnt times the int_rate divided by 100. This is how much money you made from loans that meet this condition.\n",
    "\n",
    "- Everything else gets a zero."
   ]
  },
  {
   "cell_type": "code",
   "execution_count": null,
   "metadata": {},
   "outputs": [],
   "source": [
    "def profit_function(data):\n",
    "    if data.target == 0 and data.predicted == 1:\n",
    "        return -1 *data.loan_amnt\n",
    "    elif data.target == 1 and data.predicted == 1:\n",
    "        return data.loan_amnt * (data.int_rate/100.)\n",
    "    else:\n",
    "        return 0"
   ]
  },
  {
   "cell_type": "markdown",
   "metadata": {},
   "source": [
    "Here's an example of using the threshold and profit_functions"
   ]
  },
  {
   "cell_type": "code",
   "execution_count": null,
   "metadata": {},
   "outputs": [],
   "source": [
    "#List of probabilities\n",
    "probs = np.array([0.2, 0.5, 0.8, 0.9, 0.1, 0.75])\n",
    "\n",
    "#Pass in probabilities into threshold function, using .7 as threshold\n",
    "preds = threshold(probs, thres=.7)\n",
    "preds"
   ]
  },
  {
   "cell_type": "code",
   "execution_count": null,
   "metadata": {},
   "outputs": [],
   "source": [
    "sample_df = {\"loan_amnt\": [1000, 500, 200, 5000, 3000, 6000],\n",
    "            \"int_rate\": [18, 20, 4, 5, 2, 10], \n",
    "            \"target\": [0, 1, 0, 1, 0, 1]}\n",
    "\n",
    "#Put dictionary in data frame\n",
    "\n",
    "profit_df = pd.DataFrame(sample_df)\n",
    "\n",
    "profit_df"
   ]
  },
  {
   "cell_type": "code",
   "execution_count": null,
   "metadata": {},
   "outputs": [],
   "source": [
    "#Add in predictions\n",
    "\n",
    "profit_df[\"predicted\"] = preds\n",
    "profit_df"
   ]
  },
  {
   "cell_type": "code",
   "execution_count": null,
   "metadata": {},
   "outputs": [],
   "source": [
    "#Apply function onto data frame\n",
    "profit_series = profit_df.apply(profit_function, axis = 1)\n",
    "profit_series"
   ]
  },
  {
   "cell_type": "code",
   "execution_count": null,
   "metadata": {},
   "outputs": [],
   "source": [
    "#Sum up profits and losses\n",
    "profit_series.sum()"
   ]
  },
  {
   "cell_type": "markdown",
   "metadata": {},
   "source": [
    "This model made $650"
   ]
  },
  {
   "cell_type": "code",
   "execution_count": null,
   "metadata": {},
   "outputs": [],
   "source": []
  },
  {
   "cell_type": "code",
   "execution_count": null,
   "metadata": {},
   "outputs": [],
   "source": []
  },
  {
   "cell_type": "markdown",
   "metadata": {},
   "source": [
    "## Let the games begin!!"
   ]
  },
  {
   "cell_type": "code",
   "execution_count": null,
   "metadata": {},
   "outputs": [],
   "source": []
  }
 ],
 "metadata": {
  "kernelspec": {
   "display_name": "Python 2",
   "language": "python",
   "name": "python2"
  },
  "language_info": {
   "codemirror_mode": {
    "name": "ipython",
    "version": 2
   },
   "file_extension": ".py",
   "mimetype": "text/x-python",
   "name": "python",
   "nbconvert_exporter": "python",
   "pygments_lexer": "ipython2",
   "version": "2.7.13"
  }
 },
 "nbformat": 4,
 "nbformat_minor": 2
}
