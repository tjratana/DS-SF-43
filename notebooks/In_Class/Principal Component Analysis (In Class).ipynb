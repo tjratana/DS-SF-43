{
 "cells": [
  {
   "cell_type": "markdown",
   "metadata": {},
   "source": [
    "# Unsupervised Learning with Principal Component Analysis"
   ]
  },
  {
   "cell_type": "markdown",
   "metadata": {},
   "source": [
    "**Goals:** \n",
    "\n",
    "- What is PCA (Principal Component Analysis)? How it works and how to use it.\n",
    "- Visualize and interpret PCA-transformed data\n",
    "- Work with PCA-transformed data for classification and clustering purposes\n"
   ]
  },
  {
   "cell_type": "code",
   "execution_count": null,
   "metadata": {
    "collapsed": true
   },
   "outputs": [],
   "source": []
  },
  {
   "cell_type": "code",
   "execution_count": null,
   "metadata": {
    "collapsed": true
   },
   "outputs": [],
   "source": []
  },
  {
   "cell_type": "code",
   "execution_count": null,
   "metadata": {
    "collapsed": true
   },
   "outputs": [],
   "source": []
  },
  {
   "cell_type": "code",
   "execution_count": null,
   "metadata": {
    "collapsed": true
   },
   "outputs": [],
   "source": []
  },
  {
   "cell_type": "markdown",
   "metadata": {},
   "source": [
    "## Image 1"
   ]
  },
  {
   "cell_type": "markdown",
   "metadata": {},
   "source": [
    "![a](images/pca_image.jpeg)"
   ]
  },
  {
   "cell_type": "code",
   "execution_count": null,
   "metadata": {
    "collapsed": true
   },
   "outputs": [],
   "source": []
  },
  {
   "cell_type": "code",
   "execution_count": null,
   "metadata": {
    "collapsed": true
   },
   "outputs": [],
   "source": []
  },
  {
   "cell_type": "markdown",
   "metadata": {},
   "source": [
    "## Image 2"
   ]
  },
  {
   "cell_type": "markdown",
   "metadata": {},
   "source": [
    "![we](images/pca_image_transformed.jpeg)"
   ]
  },
  {
   "cell_type": "code",
   "execution_count": null,
   "metadata": {
    "collapsed": true
   },
   "outputs": [],
   "source": []
  },
  {
   "cell_type": "code",
   "execution_count": null,
   "metadata": {
    "collapsed": true
   },
   "outputs": [],
   "source": []
  },
  {
   "cell_type": "code",
   "execution_count": null,
   "metadata": {
    "collapsed": true
   },
   "outputs": [],
   "source": []
  },
  {
   "cell_type": "markdown",
   "metadata": {},
   "source": [
    "**What is the difference between the two images???**"
   ]
  },
  {
   "cell_type": "code",
   "execution_count": null,
   "metadata": {
    "collapsed": true
   },
   "outputs": [],
   "source": []
  },
  {
   "cell_type": "code",
   "execution_count": null,
   "metadata": {
    "collapsed": true
   },
   "outputs": [],
   "source": []
  },
  {
   "cell_type": "code",
   "execution_count": null,
   "metadata": {
    "collapsed": true
   },
   "outputs": [],
   "source": []
  },
  {
   "cell_type": "code",
   "execution_count": null,
   "metadata": {
    "collapsed": true
   },
   "outputs": [],
   "source": []
  },
  {
   "cell_type": "code",
   "execution_count": null,
   "metadata": {
    "collapsed": true
   },
   "outputs": [],
   "source": []
  },
  {
   "cell_type": "code",
   "execution_count": null,
   "metadata": {
    "collapsed": true
   },
   "outputs": [],
   "source": []
  },
  {
   "cell_type": "markdown",
   "metadata": {},
   "source": [
    "**Answer:** The first image is the high-quality version and the second is the low quality. The first is 16MB and the second 1.2MB\n",
    "\n",
    "<br>\n",
    "\n",
    "Given that information, is it fair to say that these two images are effectively the same?"
   ]
  },
  {
   "cell_type": "code",
   "execution_count": null,
   "metadata": {
    "collapsed": true
   },
   "outputs": [],
   "source": []
  },
  {
   "cell_type": "code",
   "execution_count": null,
   "metadata": {
    "collapsed": true
   },
   "outputs": [],
   "source": []
  },
  {
   "cell_type": "code",
   "execution_count": null,
   "metadata": {
    "collapsed": true
   },
   "outputs": [],
   "source": []
  },
  {
   "cell_type": "code",
   "execution_count": null,
   "metadata": {
    "collapsed": true
   },
   "outputs": [],
   "source": []
  },
  {
   "cell_type": "markdown",
   "metadata": {},
   "source": [
    "## PCA (Principal Component Analysis)\n",
    "--- \n",
    "\n",
    "* Dimension Reductionality technique that when faced with a large set of correlated variables, allow us to summarize this set with a smaller number of representative variables that **collectively** explain most of the variability in the original set.\n",
    "* The quintessential \"dimensionality reduction\" algorithm, where _\"dimensionality reduction\"_ = process of combining or collapsing your existing features (columns in $X$) into new features that retain the signal in the original data in fewer variables while ideally reducing noise.\n",
    "* **PCA** is an unsupervised approach, since it involves only a set of features $X_1$, $X_2$, . . . , $X_p$, and no associated response $Y$ \n",
    "* **PCA** produces derived variables to use in supervised methods and is also a tool for data visualization. Imagine being able to visualize a 100-dimension dataset on a 2D scatter plot.\n",
    "\n",
    "- Like the two images above the PCA can transform data with 100 dimensions into 2 while retaining the \"essence\" of the original data. \n",
    "\n"
   ]
  },
  {
   "cell_type": "markdown",
   "metadata": {},
   "source": [
    "From [Sebastian Raschka](http://sebastianraschka.com/Articles/2015_pca_in_3_steps.html#introduction):\n",
    "\n",
    "\"The sheer size of data in the modern age is not only a challenge for computer hardware but also a main bottleneck for the performance of many machine learning algorithms. The main goal of a PCA analysis is to identify patterns in data; PCA aims to detect the correlation between variables. If a strong correlation between variables exists, the attempt to reduce the dimensionality only makes sense. In a nutshell, this is what PCA is all about: Finding the directions of maximum variance in high-dimensional data and project it onto a smaller dimensional subspace while retaining most of the information.\""
   ]
  },
  {
   "cell_type": "code",
   "execution_count": null,
   "metadata": {
    "collapsed": true
   },
   "outputs": [],
   "source": []
  },
  {
   "cell_type": "code",
   "execution_count": null,
   "metadata": {
    "collapsed": true
   },
   "outputs": [],
   "source": []
  },
  {
   "cell_type": "code",
   "execution_count": null,
   "metadata": {
    "collapsed": true
   },
   "outputs": [],
   "source": []
  },
  {
   "cell_type": "code",
   "execution_count": null,
   "metadata": {
    "collapsed": true
   },
   "outputs": [],
   "source": []
  },
  {
   "cell_type": "markdown",
   "metadata": {},
   "source": [
    "* The idea is that each of the $n$ observations lives in $p$-dimensional space, but not all of these dimensions are equally interesting.\n",
    "* Each of the dimensions found by **PCA** is a linear combination of the $p$ features, so the first principal component of a set of features $X_1$, $X_2$, . . . , $X_p$ is the **normalized** linear combination of the features:\n",
    "$$Z_1 = φ_{11}X_1 +φ_{21}X_2 +...+φ_{p1}X_p$$\n",
    "that have the **largest variance**  \n",
    "The elements $φ_{11}$,...,$φ_{p1}$ are the loadings of the **first** PCA, **AND** together these loadings make up the principal component loading vector whose **SUM** is equal to **1**: $$φ_1 = (φ_{11}  φ_{21} ... φ_{p1})^T$$"
   ]
  },
  {
   "cell_type": "code",
   "execution_count": null,
   "metadata": {
    "collapsed": true
   },
   "outputs": [],
   "source": []
  },
  {
   "cell_type": "markdown",
   "metadata": {},
   "source": [
    "### The process\n",
    "---\n",
    "* Linearly transform an $𝑁$×$𝑑$ matrix $𝑋$ into an $𝑁$×$𝑚$ matrix $𝑌$\n",
    "    * Centralized the data (subtract the mean). \n",
    "    * Calculate the $𝑑$×$𝑑$ covariance matrix: $$𝐶 = \\frac1{N-1} X^T X$$\n",
    "        * $C_{ij}$ =  $\\frac1{N-1}$ $\\sum_{q=1}^N$ $X_{q,i}$ $X_{q,i}$ \n",
    "        * $C_{i,i}$ (diagonal) is the variance of variable $i$\n",
    "        * $C_{i,j}$ (off-diagonal) is the covariance between variables $i$ and $j$\n",
    "    * Calculate the **eigenvectors** of the covariance matrix\n",
    "         * An **eigenvector** specifies a direction through the original coordinate space. \n",
    "    * Select $m$ **eigenvectors** that correspond to the **largest $m$ eigenvalues** to be the new basis.\n",
    "         * The eigenvector with the highest correspoding **eigenvalue** is the first principal component.\n",
    "         * **Eigenvalues** indicate the amount of variance in the direction of it's corresponding eigenvector"
   ]
  },
  {
   "cell_type": "markdown",
   "metadata": {},
   "source": [
    "### Eigenvectors\n",
    "---\n",
    "* If $A$ is a **square matrix**, a non-zero vector **$v$** is an **eigenvector** of $A$ if there is a scalar $λ$ **(eigenvalue)** such that $$Av = λv$$\n",
    "\n",
    "* For example:\n",
    "$$ Av = \n",
    "\\left(\\begin{array}{cc} \n",
    "2 & 3\\\\\n",
    "2 & 1\n",
    "\\end{array}\\right) *\n",
    "\\left(\\begin{array}{cc} \n",
    "3 \\\\ \n",
    "2 \n",
    "\\end{array}\\right) = \n",
    "\\left(\\begin{array}{cc} \n",
    "12 \\\\\n",
    "8\n",
    "\\end{array}\\right) = \n",
    "4\n",
    "\\left(\\begin{array}{cc} \n",
    "3 \\\\\n",
    "2\n",
    "\\end{array}\\right)\n",
    "= λv\n",
    "$$ \n",
    "$~$\n",
    "* If you think of the squared matrix $A$ as a transformation matrix, then multiply it with the **eigenvector do not change its direction.**\n",
    "\n",
    "<a href = http://setosa.io/ev/eigenvectors-and-eigenvalues/> Please see Eigenvectors and Eigenvalues Visually </a>"
   ]
  },
  {
   "cell_type": "code",
   "execution_count": null,
   "metadata": {
    "collapsed": true
   },
   "outputs": [],
   "source": []
  },
  {
   "cell_type": "markdown",
   "metadata": {},
   "source": [
    "### Visualizing the principal components\n",
    "---\n",
    "\n",
    "![](https://snag.gy/ECsJye.jpg)\n",
    "*Image from Introduction to Statistical Learning*"
   ]
  },
  {
   "cell_type": "code",
   "execution_count": null,
   "metadata": {
    "collapsed": true
   },
   "outputs": [],
   "source": []
  },
  {
   "cell_type": "code",
   "execution_count": null,
   "metadata": {
    "collapsed": true
   },
   "outputs": [],
   "source": []
  },
  {
   "cell_type": "code",
   "execution_count": null,
   "metadata": {
    "collapsed": true
   },
   "outputs": [],
   "source": []
  },
  {
   "cell_type": "code",
   "execution_count": null,
   "metadata": {
    "collapsed": true
   },
   "outputs": [],
   "source": []
  },
  {
   "cell_type": "code",
   "execution_count": null,
   "metadata": {
    "collapsed": true
   },
   "outputs": [],
   "source": []
  },
  {
   "cell_type": "code",
   "execution_count": null,
   "metadata": {
    "collapsed": true
   },
   "outputs": [],
   "source": []
  },
  {
   "cell_type": "code",
   "execution_count": null,
   "metadata": {
    "collapsed": true
   },
   "outputs": [],
   "source": []
  },
  {
   "cell_type": "code",
   "execution_count": null,
   "metadata": {
    "collapsed": true
   },
   "outputs": [],
   "source": []
  },
  {
   "cell_type": "markdown",
   "metadata": {},
   "source": [
    "### Summary\n",
    "---\n",
    "\n",
    "* What is a principal component? **Principal components are the vectors that define the new coordinate system for your data.** Transforming your original data columns onto the principal component axes constructs new variables that are optimized to explain as much variance as possible and to be independent (uncorrelated).\n",
    "\n",
    "* Creating these variables is a well-defined mathematical process, but in essence **each component is created as a weighted sum of your original columns, such that all components are orthogonal (perpendicular) to each other**.\n",
    "\n",
    "* Eigenvectors: The direction of the components\n",
    "\n",
    "* Eigenvalues: The lenght of the Eigenvectors, every eigenvector has an Eigenvalue. The magnitude of the Eigenvector encodes the proportion of total variance explained by a component. The whole variance is the same as the number of variables in the PCA. A value of 1 mean it explains as much variance as one variable. >1 means a component explains more variance than a single variable.\n",
    "\n",
    "* We can reduce the number of dimensions (remove bottom number of components) and lose the least possible amount of variance information in our data.\n",
    "* Since we are assuming our variables are interrelated (at least in the sense that they together explain a dependent variable), the information of interest should exist along directions with largest variance.\n",
    "* The directions of largest variance should have the highest Signal to Noise ratio.\n",
    "* Correlated predictor variables (also referred to as \"redundancy\" of information) are combined into independent variables. Our predictors from PCA are guaranteed to be independent.\n",
    "---\n",
    "![](https://snag.gy/0Hur9o.jpg)\n",
    "*Image from http://setosa.io/ev/principal-component-analysis/*"
   ]
  },
  {
   "cell_type": "code",
   "execution_count": null,
   "metadata": {
    "collapsed": true
   },
   "outputs": [],
   "source": []
  },
  {
   "cell_type": "code",
   "execution_count": null,
   "metadata": {
    "collapsed": true
   },
   "outputs": [],
   "source": []
  },
  {
   "cell_type": "markdown",
   "metadata": {},
   "source": [
    "## PCA Lesson Adapted from Sebastian Raschka"
   ]
  },
  {
   "cell_type": "code",
   "execution_count": 3,
   "metadata": {},
   "outputs": [
    {
     "name": "stderr",
     "output_type": "stream",
     "text": [
      "/Users/TJR/anaconda3/lib/python3.6/site-packages/sklearn/cross_validation.py:41: DeprecationWarning: This module was deprecated in version 0.18 in favor of the model_selection module into which all the refactored classes and functions are moved. Also note that the interface of the new CV iterators are different from that of this module. This module will be removed in 0.20.\n",
      "  \"This module will be removed in 0.20.\", DeprecationWarning)\n"
     ]
    }
   ],
   "source": [
    "#Imports\n",
    "import matplotlib.pyplot as plt\n",
    "%matplotlib inline\n",
    "import numpy as np\n",
    "import pandas as pd\n",
    "import seaborn as sns\n",
    "from sklearn.decomposition import PCA\n",
    "from sklearn.linear_model import LogisticRegression\n",
    "from sklearn.metrics import accuracy_score, confusion_matrix, recall_score, precision_score\n",
    "from sklearn.cluster import KMeans\n",
    "from sklearn.preprocessing import StandardScaler\n",
    "from sklearn.cross_validation import train_test_split, cross_val_score\n",
    "from sklearn.datasets import load_digits\n",
    "\n",
    "plt.style.use('fivethirtyeight')"
   ]
  },
  {
   "cell_type": "markdown",
   "metadata": {},
   "source": [
    "We're going to do a walkthrough on this lesson adapted from [Sebastian Raschka](http://sebastianraschka.com/Articles/2015_pca_in_3_steps.html#introduction) on how to use PCA with the Iris dataset."
   ]
  },
  {
   "cell_type": "markdown",
   "metadata": {},
   "source": [
    "### 1. Standardize the data"
   ]
  },
  {
   "cell_type": "code",
   "execution_count": 6,
   "metadata": {
    "collapsed": true
   },
   "outputs": [],
   "source": [
    "#Load data and assign X and y\n",
    "\n",
    "\n",
    "iris = sns.load_dataset(\"iris\")\n",
    "X = iris.drop(\"species\", axis = 1)\n",
    "y = iris.species\n"
   ]
  },
  {
   "cell_type": "code",
   "execution_count": 8,
   "metadata": {
    "collapsed": true
   },
   "outputs": [],
   "source": [
    "#Standardize the data\n",
    "\n",
    "\n",
    "scaler = StandardScaler()\n",
    "Xs = scaler.fit_transform(X)"
   ]
  },
  {
   "cell_type": "code",
   "execution_count": null,
   "metadata": {
    "collapsed": true
   },
   "outputs": [],
   "source": []
  },
  {
   "cell_type": "code",
   "execution_count": null,
   "metadata": {
    "collapsed": true
   },
   "outputs": [],
   "source": []
  },
  {
   "cell_type": "markdown",
   "metadata": {},
   "source": [
    "### 2. Eigendecomposition - Computing Eigenvectors and Eigenvalues\n",
    "\n",
    "\"The eigenvectors and eigenvalues of a covariance (or correlation) matrix represent the “core” of a PCA: The eigenvectors (principal components) determine the directions of the new feature space, and the eigenvalues determine their magnitude. In other words, the eigenvalues explain the variance of the data along the new feature axes.\""
   ]
  },
  {
   "cell_type": "markdown",
   "metadata": {},
   "source": [
    "**Covariance Matrix**\n",
    "\"The classic approach to PCA is to perform the eigendecomposition on the covariance matrix Σ, which is a d×d matrix where each element represents the covariance between two features. The covariance between two features is calculated as follows:\""
   ]
  },
  {
   "cell_type": "markdown",
   "metadata": {},
   "source": [
    "\\begin{align}\n",
    "\\sigma_{jk} = \\frac{1}{n-1}\\sum_{i=1}^{N}\\left(  x_{ij}-\\bar{x}_j \\right)  \\left( x_{ik}-\\bar{x}_k \\right).\n",
    "\\end{align}"
   ]
  },
  {
   "cell_type": "markdown",
   "metadata": {},
   "source": [
    "We can summarize the calculation of the covariance matrix via the following matrix equation:"
   ]
  },
  {
   "cell_type": "markdown",
   "metadata": {},
   "source": [
    "\\begin{align}\n",
    "\\Sigma = \\frac{1}{n-1} \\left( (\\mathbf{X} - \\mathbf{\\bar{x}})^T\\;(\\mathbf{X} - \\mathbf{\\bar{x}}) \\right)\n",
    "\\end{align}"
   ]
  },
  {
   "cell_type": "markdown",
   "metadata": {},
   "source": [
    "Where x¯ is the mean vector \\begin{align}\\mathbf{\\bar{x}} = \\sum\\limits_{k=1}^n x_{i}.\\end{align}"
   ]
  },
  {
   "cell_type": "markdown",
   "metadata": {},
   "source": [
    "The mean vector is a d-dimensional vector where each value in this vector represents the sample mean of a feature column in the dataset."
   ]
  },
  {
   "cell_type": "code",
   "execution_count": 9,
   "metadata": {},
   "outputs": [
    {
     "data": {
      "text/plain": [
       "array([ -4.73695157e-16,  -7.81597009e-16,  -4.26325641e-16,\n",
       "        -4.73695157e-16])"
      ]
     },
     "execution_count": 9,
     "metadata": {},
     "output_type": "execute_result"
    }
   ],
   "source": [
    "#Use numpy \n",
    "\n",
    "mean_vec = np.mean(Xs, axis = 0)\n",
    "\n",
    "#The mean value of each column\n",
    "mean_vec"
   ]
  },
  {
   "cell_type": "code",
   "execution_count": 10,
   "metadata": {},
   "outputs": [
    {
     "data": {
      "text/plain": [
       "array([[ 1.00671141, -0.11835884,  0.87760447,  0.82343066],\n",
       "       [-0.11835884,  1.00671141, -0.43131554, -0.36858315],\n",
       "       [ 0.87760447, -0.43131554,  1.00671141,  0.96932762],\n",
       "       [ 0.82343066, -0.36858315,  0.96932762,  1.00671141]])"
      ]
     },
     "execution_count": 10,
     "metadata": {},
     "output_type": "execute_result"
    }
   ],
   "source": [
    "#Manually Calculate the covariance matrix\n",
    "cov_mat = (Xs - mean_vec).T.dot((Xs - mean_vec))/ (Xs.shape[0] - 1)\n",
    "\n",
    "cov_mat"
   ]
  },
  {
   "cell_type": "code",
   "execution_count": 11,
   "metadata": {},
   "outputs": [
    {
     "data": {
      "text/plain": [
       "array([[ 1.00671141, -0.11835884,  0.87760447,  0.82343066],\n",
       "       [-0.11835884,  1.00671141, -0.43131554, -0.36858315],\n",
       "       [ 0.87760447, -0.43131554,  1.00671141,  0.96932762],\n",
       "       [ 0.82343066, -0.36858315,  0.96932762,  1.00671141]])"
      ]
     },
     "execution_count": 11,
     "metadata": {},
     "output_type": "execute_result"
    }
   ],
   "source": [
    "#Use numpy\n",
    "cov_mat = np.cov(Xs.T)\n",
    "cov_mat"
   ]
  },
  {
   "cell_type": "code",
   "execution_count": 12,
   "metadata": {},
   "outputs": [
    {
     "data": {
      "text/plain": [
       "array([ 2.93808505,  0.9201649 ,  0.14774182,  0.02085386])"
      ]
     },
     "execution_count": 12,
     "metadata": {},
     "output_type": "execute_result"
    }
   ],
   "source": [
    "#Derive eigenvalues and eigenvectors\n",
    "eig_vals, eig_vecs = np.linalg.eig(cov_mat)\n",
    "\n",
    "eig_vals"
   ]
  },
  {
   "cell_type": "code",
   "execution_count": 13,
   "metadata": {},
   "outputs": [
    {
     "data": {
      "text/plain": [
       "array([[ 0.52106591, -0.37741762, -0.71956635,  0.26128628],\n",
       "       [-0.26934744, -0.92329566,  0.24438178, -0.12350962],\n",
       "       [ 0.5804131 , -0.02449161,  0.14212637, -0.80144925],\n",
       "       [ 0.56485654, -0.06694199,  0.63427274,  0.52359713]])"
      ]
     },
     "execution_count": 13,
     "metadata": {},
     "output_type": "execute_result"
    }
   ],
   "source": [
    "eig_vecs"
   ]
  },
  {
   "cell_type": "markdown",
   "metadata": {},
   "source": [
    "**Correlation Matrix**\n",
    "\n",
    "\"Especially, in the field of \"Finance,\" the correlation matrix typically used instead of the covariance matrix. However, the eigendecomposition of the covariance matrix (if the input data was standardized) yields the same results as a eigendecomposition on the correlation matrix, since the correlation matrix can be understood as the normalized covariance matrix. Eigendecomposition of the standardized data based on the correlation matrix:\""
   ]
  },
  {
   "cell_type": "code",
   "execution_count": 14,
   "metadata": {},
   "outputs": [
    {
     "data": {
      "text/plain": [
       "array([[ 1.        , -0.11756978,  0.87175378,  0.81794113],\n",
       "       [-0.11756978,  1.        , -0.4284401 , -0.36612593],\n",
       "       [ 0.87175378, -0.4284401 ,  1.        ,  0.96286543],\n",
       "       [ 0.81794113, -0.36612593,  0.96286543,  1.        ]])"
      ]
     },
     "execution_count": 14,
     "metadata": {},
     "output_type": "execute_result"
    }
   ],
   "source": [
    "cor_mat1 = np.corrcoef(Xs.T)\n",
    "cor_mat1"
   ]
  },
  {
   "cell_type": "code",
   "execution_count": 15,
   "metadata": {
    "collapsed": true
   },
   "outputs": [],
   "source": [
    "eig_vals, eig_vecs = np.linalg.eig(cor_mat1)"
   ]
  },
  {
   "cell_type": "code",
   "execution_count": 16,
   "metadata": {},
   "outputs": [
    {
     "data": {
      "text/plain": [
       "array([[ 0.52106591, -0.37741762, -0.71956635,  0.26128628],\n",
       "       [-0.26934744, -0.92329566,  0.24438178, -0.12350962],\n",
       "       [ 0.5804131 , -0.02449161,  0.14212637, -0.80144925],\n",
       "       [ 0.56485654, -0.06694199,  0.63427274,  0.52359713]])"
      ]
     },
     "execution_count": 16,
     "metadata": {},
     "output_type": "execute_result"
    }
   ],
   "source": [
    "#Eigenvectors\n",
    "eig_vecs"
   ]
  },
  {
   "cell_type": "code",
   "execution_count": 17,
   "metadata": {},
   "outputs": [
    {
     "data": {
      "text/plain": [
       "array([ 2.91849782,  0.91403047,  0.14675688,  0.02071484])"
      ]
     },
     "execution_count": 17,
     "metadata": {},
     "output_type": "execute_result"
    }
   ],
   "source": [
    "#Eigenvalues\n",
    "eig_vals"
   ]
  },
  {
   "cell_type": "code",
   "execution_count": null,
   "metadata": {
    "collapsed": true
   },
   "outputs": [],
   "source": []
  },
  {
   "cell_type": "markdown",
   "metadata": {},
   "source": [
    "### 3. Selecting Principal Components"
   ]
  },
  {
   "cell_type": "markdown",
   "metadata": {},
   "source": [
    "\"The typical goal of a PCA is to reduce the dimensionality of the original feature space by projecting it onto a smaller subspace, where the eigenvectors will form the axes.\""
   ]
  },
  {
   "cell_type": "markdown",
   "metadata": {},
   "source": [
    "\"In order to decide which eigenvector(s) can dropped without losing too much information for the construction of lower-dimensional subspace, we need to inspect the corresponding eigenvalues: The eigenvectors with the lowest eigenvalues bear the least information about the distribution of the data; those are the ones can be dropped.\n",
    "In order to do so, the common approach is to rank the eigenvalues from highest to lowest in order choose the top `k` eigenvectors.\""
   ]
  },
  {
   "cell_type": "code",
   "execution_count": 18,
   "metadata": {},
   "outputs": [
    {
     "data": {
      "text/plain": [
       "[(2.9184978165319952,\n",
       "  array([ 0.52106591, -0.26934744,  0.5804131 ,  0.56485654])),\n",
       " (0.91403047146806904,\n",
       "  array([-0.37741762, -0.92329566, -0.02449161, -0.06694199])),\n",
       " (0.14675687557131503,\n",
       "  array([-0.71956635,  0.24438178,  0.14212637,  0.63427274])),\n",
       " (0.02071483642861878,\n",
       "  array([ 0.26128628, -0.12350962, -0.80144925,  0.52359713]))]"
      ]
     },
     "execution_count": 18,
     "metadata": {},
     "output_type": "execute_result"
    }
   ],
   "source": [
    "# Make a list of (eigenvalue, eigenvector) tuples\n",
    "eig_pairs = [(np.abs(eig_vals[i]), eig_vecs[:,i]) for i in range(len(eig_vals))]\n",
    "eig_pairs"
   ]
  },
  {
   "cell_type": "code",
   "execution_count": 19,
   "metadata": {
    "collapsed": true
   },
   "outputs": [],
   "source": [
    "# Sort the (eigenvalue, eigenvector) tuples from high to low\n",
    "eig_pairs.sort()\n",
    "eig_pairs.reverse()"
   ]
  },
  {
   "cell_type": "code",
   "execution_count": 20,
   "metadata": {},
   "outputs": [
    {
     "name": "stdout",
     "output_type": "stream",
     "text": [
      "Eigenvalues in descending order:\n",
      "2.91849781653\n",
      "0.914030471468\n",
      "0.146756875571\n",
      "0.0207148364286\n"
     ]
    }
   ],
   "source": [
    "# Visually confirm that the list is correctly sorted by decreasing eigenvalues\n",
    "print('Eigenvalues in descending order:')\n",
    "for i in eig_pairs:\n",
    "    print(i[0])"
   ]
  },
  {
   "cell_type": "markdown",
   "metadata": {},
   "source": [
    "After sorting the eigenpairs, the next question is \"how many principal components are we going to choose for our new feature subspace?\" A useful measure is the so-called \"explained variance,\" which can be calculated from the eigenvalues. The explained variance tells us how much information (variance) can be attributed to each of the principal components."
   ]
  },
  {
   "cell_type": "code",
   "execution_count": 21,
   "metadata": {},
   "outputs": [
    {
     "data": {
      "text/plain": [
       "array([  72.96244541,   95.8132072 ,   99.48212909,  100.        ])"
      ]
     },
     "execution_count": 21,
     "metadata": {},
     "output_type": "execute_result"
    }
   ],
   "source": [
    "tot = sum(eig_vals)\n",
    "var_exp = [(i / tot)*100 for i in sorted(eig_vals, reverse=True)]\n",
    "cum_var_exp = np.cumsum(var_exp)\n",
    "\n",
    "cum_var_exp"
   ]
  },
  {
   "cell_type": "code",
   "execution_count": 22,
   "metadata": {},
   "outputs": [
    {
     "data": {
      "image/png": "[encoded data removed]",
      "text/plain": [
       "<matplotlib.figure.Figure at 0x1a0ac37898>"
      ]
     },
     "metadata": {},
     "output_type": "display_data"
    }
   ],
   "source": [
    "#Plotting variance explained and cumulative variance explained\n",
    "\n",
    "pc_list =[\"PC1\", \"PC2\", \"PC3\", \"PC4\"]\n",
    "plt.figure(figsize=(9, 7))\n",
    "plt.bar([1, 2, 3, 4], var_exp, tick_label= pc_list)\n",
    "plt.plot([1, 2, 3,4], cum_var_exp, c = \"r\")\n",
    "plt.title(\"Explained Variance by Different Principal Components\")\n",
    "plt.show()"
   ]
  },
  {
   "cell_type": "code",
   "execution_count": null,
   "metadata": {
    "collapsed": true
   },
   "outputs": [],
   "source": []
  },
  {
   "cell_type": "markdown",
   "metadata": {},
   "source": [
    "The plot above clearly shows that most of the variance (72.77% of the variance to be precise) can be explained by the first principal component alone. The second principal component still bears some information (23.03%) while the third and fourth principal components can safely be dropped without losing to much information. Together, the first two principal components contain 95.8% of the information."
   ]
  },
  {
   "cell_type": "markdown",
   "metadata": {},
   "source": [
    "It's about time to get to the really interesting part: The construction of the projection matrix that will be used to transform the Iris data onto the new feature subspace. Although, the name \"projection matrix\" has a nice ring to it, it is basically just a matrix of our concatenated top k eigenvectors.\n",
    "\n",
    "Here, we are reducing the 4-dimensional feature space to a 2-dimensional feature subspace, by choosing the \"top 2\" eigenvectors with the highest eigenvalues to construct our `d×k`-dimensional eigenvector matrix `W`."
   ]
  },
  {
   "cell_type": "code",
   "execution_count": 23,
   "metadata": {},
   "outputs": [
    {
     "data": {
      "text/plain": [
       "array([[ 0.52106591, -0.37741762],\n",
       "       [-0.26934744, -0.92329566],\n",
       "       [ 0.5804131 , -0.02449161],\n",
       "       [ 0.56485654, -0.06694199]])"
      ]
     },
     "execution_count": 23,
     "metadata": {},
     "output_type": "execute_result"
    }
   ],
   "source": [
    "matrix_w = np.hstack((eig_pairs[0][1].reshape(4,1), \n",
    "                      eig_pairs[1][1].reshape(4,1)))\n",
    "\n",
    "matrix_w"
   ]
  },
  {
   "cell_type": "code",
   "execution_count": null,
   "metadata": {
    "collapsed": true
   },
   "outputs": [],
   "source": []
  },
  {
   "cell_type": "markdown",
   "metadata": {},
   "source": [
    "### 4. Projection Onto the New Feature Space\n",
    "\n",
    "In this last step we will use the 4×2-dimensional projection matrix `W` to transform our samples onto the new subspace via the equation\n",
    "`Y=X×W`, where `Y` is a 150×2 matrix of our transformed samples."
   ]
  },
  {
   "cell_type": "code",
   "execution_count": 24,
   "metadata": {},
   "outputs": [
    {
     "data": {
      "text/plain": [
       "array([[-2.26470281, -0.4800266 ],\n",
       "       [-2.08096115,  0.67413356],\n",
       "       [-2.36422905,  0.34190802],\n",
       "       [-2.29938422,  0.59739451],\n",
       "       [-2.38984217, -0.64683538],\n",
       "       [-2.07563095, -1.48917752],\n",
       "       [-2.44402884, -0.0476442 ],\n",
       "       [-2.23284716, -0.22314807],\n",
       "       [-2.33464048,  1.11532768],\n",
       "       [-2.18432817,  0.46901356],\n",
       "       [-2.1663101 , -1.04369065],\n",
       "       [-2.32613087, -0.13307834],\n",
       "       [-2.2184509 ,  0.72867617],\n",
       "       [-2.6331007 ,  0.96150673],\n",
       "       [-2.1987406 , -1.86005711],\n",
       "       [-2.26221453, -2.68628449],\n",
       "       [-2.2075877 , -1.48360936],\n",
       "       [-2.19034951, -0.48883832],\n",
       "       [-1.898572  , -1.40501879],\n",
       "       [-2.34336905, -1.12784938],\n",
       "       [-1.914323  , -0.40885571],\n",
       "       [-2.20701284, -0.92412143],\n",
       "       [-2.7743447 , -0.45834367],\n",
       "       [-1.81866953, -0.08555853],\n",
       "       [-2.22716331, -0.13725446],\n",
       "       [-1.95184633,  0.62561859],\n",
       "       [-2.05115137, -0.24216355],\n",
       "       [-2.16857717, -0.52714953],\n",
       "       [-2.13956345, -0.31321781],\n",
       "       [-2.26526149,  0.3377319 ],\n",
       "       [-2.14012214,  0.50454069],\n",
       "       [-1.83159477, -0.42369507],\n",
       "       [-2.61494794, -1.79357586],\n",
       "       [-2.44617739, -2.15072788],\n",
       "       [-2.10997488,  0.46020184],\n",
       "       [-2.2078089 ,  0.2061074 ],\n",
       "       [-2.04514621, -0.66155811],\n",
       "       [-2.52733191, -0.59229277],\n",
       "       [-2.42963258,  0.90418004],\n",
       "       [-2.16971071, -0.26887896],\n",
       "       [-2.28647514, -0.44171539],\n",
       "       [-1.85812246,  2.33741516],\n",
       "       [-2.5536384 ,  0.47910069],\n",
       "       [-1.96444768, -0.47232667],\n",
       "       [-2.13705901, -1.14222926],\n",
       "       [-2.0697443 ,  0.71105273],\n",
       "       [-2.38473317, -1.1204297 ],\n",
       "       [-2.39437631,  0.38624687],\n",
       "       [-2.22944655, -0.99795976],\n",
       "       [-2.20383344, -0.00921636],\n",
       "       [ 1.10178118, -0.86297242],\n",
       "       [ 0.73133743, -0.59461473],\n",
       "       [ 1.24097932, -0.61629765],\n",
       "       [ 0.40748306,  1.75440399],\n",
       "       [ 1.0754747 ,  0.20842105],\n",
       "       [ 0.38868734,  0.59328364],\n",
       "       [ 0.74652974, -0.77301931],\n",
       "       [-0.48732274,  1.85242909],\n",
       "       [ 0.92790164, -0.03222608],\n",
       "       [ 0.01142619,  1.03401828],\n",
       "       [-0.11019628,  2.65407282],\n",
       "       [ 0.44069345,  0.06329519],\n",
       "       [ 0.56210831,  1.76472438],\n",
       "       [ 0.71956189,  0.18622461],\n",
       "       [-0.0333547 ,  0.43900321],\n",
       "       [ 0.87540719, -0.50906396],\n",
       "       [ 0.35025167,  0.19631173],\n",
       "       [ 0.15881005,  0.79209574],\n",
       "       [ 1.22509363,  1.6222438 ],\n",
       "       [ 0.1649179 ,  1.30260923],\n",
       "       [ 0.73768265, -0.39657156],\n",
       "       [ 0.47628719,  0.41732028],\n",
       "       [ 1.2341781 ,  0.93332573],\n",
       "       [ 0.6328582 ,  0.41638772],\n",
       "       [ 0.70266118,  0.06341182],\n",
       "       [ 0.87427365, -0.25079339],\n",
       "       [ 1.25650912,  0.07725602],\n",
       "       [ 1.35840512, -0.33131168],\n",
       "       [ 0.66480037,  0.22592785],\n",
       "       [-0.04025861,  1.05871855],\n",
       "       [ 0.13079518,  1.56227183],\n",
       "       [ 0.02345269,  1.57247559],\n",
       "       [ 0.24153827,  0.77725638],\n",
       "       [ 1.06109461,  0.63384324],\n",
       "       [ 0.22397877,  0.28777351],\n",
       "       [ 0.42913912, -0.84558224],\n",
       "       [ 1.04872805, -0.5220518 ],\n",
       "       [ 1.04453138,  1.38298872],\n",
       "       [ 0.06958832,  0.21950333],\n",
       "       [ 0.28347724,  1.32932464],\n",
       "       [ 0.27907778,  1.12002852],\n",
       "       [ 0.62456979, -0.02492303],\n",
       "       [ 0.33653037,  0.98840402],\n",
       "       [-0.36218338,  2.01923787],\n",
       "       [ 0.28858624,  0.85573032],\n",
       "       [ 0.09136066,  0.18119213],\n",
       "       [ 0.22771687,  0.38492008],\n",
       "       [ 0.57638829,  0.1548736 ],\n",
       "       [-0.44766702,  1.54379203],\n",
       "       [ 0.25673059,  0.5988518 ],\n",
       "       [ 1.84456887, -0.87042131],\n",
       "       [ 1.15788161,  0.69886986],\n",
       "       [ 2.20526679, -0.56201048],\n",
       "       [ 1.44015066,  0.04698759],\n",
       "       [ 1.86781222, -0.29504482],\n",
       "       [ 2.75187334, -0.8004092 ],\n",
       "       [ 0.36701769,  1.56150289],\n",
       "       [ 2.30243944, -0.42006558],\n",
       "       [ 2.00668647,  0.71143865],\n",
       "       [ 2.25977735, -1.92101038],\n",
       "       [ 1.36417549, -0.69275645],\n",
       "       [ 1.60267867,  0.42170045],\n",
       "       [ 1.8839007 , -0.41924965],\n",
       "       [ 1.2601151 ,  1.16226042],\n",
       "       [ 1.4676452 ,  0.44227159],\n",
       "       [ 1.59007732, -0.67624481],\n",
       "       [ 1.47143146, -0.25562182],\n",
       "       [ 2.42632899, -2.55666125],\n",
       "       [ 3.31069558, -0.01778095],\n",
       "       [ 1.26376667,  1.70674538],\n",
       "       [ 2.0377163 , -0.91046741],\n",
       "       [ 0.97798073,  0.57176432],\n",
       "       [ 2.89765149, -0.41364106],\n",
       "       [ 1.33323218,  0.48181122],\n",
       "       [ 1.7007339 , -1.01392187],\n",
       "       [ 1.95432671, -1.0077776 ],\n",
       "       [ 1.17510363,  0.31639447],\n",
       "       [ 1.02095055, -0.06434603],\n",
       "       [ 1.78834992,  0.18736121],\n",
       "       [ 1.86364755, -0.56229073],\n",
       "       [ 2.43595373, -0.25928443],\n",
       "       [ 2.30492772, -2.62632347],\n",
       "       [ 1.86270322,  0.17854949],\n",
       "       [ 1.11414774,  0.29292262],\n",
       "       [ 1.2024733 ,  0.81131527],\n",
       "       [ 2.79877045, -0.85680333],\n",
       "       [ 1.57625591, -1.06858111],\n",
       "       [ 1.3462921 , -0.42243061],\n",
       "       [ 0.92482492, -0.0172231 ],\n",
       "       [ 1.85204505, -0.67612817],\n",
       "       [ 2.01481043, -0.61388564],\n",
       "       [ 1.90178409, -0.68957549],\n",
       "       [ 1.15788161,  0.69886986],\n",
       "       [ 2.04055823, -0.8675206 ],\n",
       "       [ 1.9981471 , -1.04916875],\n",
       "       [ 1.87050329, -0.38696608],\n",
       "       [ 1.56458048,  0.89668681],\n",
       "       [ 1.5211705 , -0.26906914],\n",
       "       [ 1.37278779, -1.01125442],\n",
       "       [ 0.96065603,  0.02433167]])"
      ]
     },
     "execution_count": 24,
     "metadata": {},
     "output_type": "execute_result"
    }
   ],
   "source": [
    "#Take the dot product of Xs and matrix_w\n",
    "Y = Xs.dot(matrix_w)\n",
    "Y"
   ]
  },
  {
   "cell_type": "code",
   "execution_count": 25,
   "metadata": {},
   "outputs": [
    {
     "data": {
      "text/plain": [
       "<matplotlib.collections.PathCollection at 0x104b5a048>"
      ]
     },
     "execution_count": 25,
     "metadata": {},
     "output_type": "execute_result"
    },
    {
     "data": {
      "image/png": "[encoded data removed]",
      "text/plain": [
       "<matplotlib.figure.Figure at 0x1a0ac37080>"
      ]
     },
     "metadata": {},
     "output_type": "display_data"
    }
   ],
   "source": [
    "#Plot components with color-encoding\n",
    "\n",
    "colors = y.map({\"setosa\": \"r\", \"virginica\": \"g\", \"versicolor\": \"b\"})\n",
    "plt.figure(figsize=(8, 7))\n",
    "plt.scatter(Y[:, 0], Y[:, 1], c  = colors)"
   ]
  },
  {
   "cell_type": "code",
   "execution_count": null,
   "metadata": {
    "collapsed": true
   },
   "outputs": [],
   "source": []
  },
  {
   "cell_type": "code",
   "execution_count": null,
   "metadata": {
    "collapsed": true
   },
   "outputs": [],
   "source": []
  },
  {
   "cell_type": "code",
   "execution_count": null,
   "metadata": {
    "collapsed": true
   },
   "outputs": [],
   "source": []
  },
  {
   "cell_type": "code",
   "execution_count": null,
   "metadata": {
    "collapsed": true
   },
   "outputs": [],
   "source": []
  },
  {
   "cell_type": "markdown",
   "metadata": {},
   "source": [
    "## PCA in Sklearn with Iris, the NBA, and Digits"
   ]
  },
  {
   "cell_type": "markdown",
   "metadata": {},
   "source": [
    "We're going to learn how to use PCA with the Iris, NBA 16/17 stats, and MNIST digits datasets."
   ]
  },
  {
   "cell_type": "code",
   "execution_count": null,
   "metadata": {
    "collapsed": true
   },
   "outputs": [],
   "source": []
  },
  {
   "cell_type": "markdown",
   "metadata": {},
   "source": [
    "### Iris\n",
    "\n",
    "Let's use the pairplot of iris to compare what that looks like to the two components pca scatter plot"
   ]
  },
  {
   "cell_type": "code",
   "execution_count": 27,
   "metadata": {},
   "outputs": [
    {
     "data": {
      "text/plain": [
       "<seaborn.axisgrid.PairGrid at 0x1a13108400>"
      ]
     },
     "execution_count": 27,
     "metadata": {},
     "output_type": "execute_result"
    },
    {
     "data": {
      "image/png": "[encoded data removed]",
      "text/plain": [
       "<matplotlib.figure.Figure at 0x104b5a4e0>"
      ]
     },
     "metadata": {},
     "output_type": "display_data"
    }
   ],
   "source": [
    "#Pairplot of iris data with species color-encoding\n",
    "\n",
    "sns.pairplot(iris, hue=\"species\", size = 2)\n"
   ]
  },
  {
   "cell_type": "code",
   "execution_count": null,
   "metadata": {
    "collapsed": true
   },
   "outputs": [],
   "source": []
  },
  {
   "cell_type": "markdown",
   "metadata": {},
   "source": [
    "As we know, we can't visualize a four-dimensional dataset, the pairplot gives use the next best thing, which is visualizing the four-dimensional dataset from as many different perspectives as possible.\n",
    "\n",
    "Now let's compare this pairplot with a scatter plot of the iris' data two principal components."
   ]
  },
  {
   "cell_type": "code",
   "execution_count": 28,
   "metadata": {
    "collapsed": true
   },
   "outputs": [],
   "source": [
    "#Initialize pca object with 4 components\n",
    "\n",
    "pca = PCA(n_components=4)\n",
    "\n",
    "\n",
    "#Fit and transform scaled iris data using pca\n",
    "\n",
    "iris_pca = pca.fit_transform(Xs)"
   ]
  },
  {
   "cell_type": "code",
   "execution_count": 29,
   "metadata": {},
   "outputs": [
    {
     "data": {
      "text/plain": [
       "array([ 0.52106591, -0.26934744,  0.5804131 ,  0.56485654])"
      ]
     },
     "execution_count": 29,
     "metadata": {},
     "output_type": "execute_result"
    }
   ],
   "source": [
    "# the components_ are the eigenvectors. For now, just know that we are using \n",
    "# them to transform the data.\n",
    "first_pc = pca.components_[0]\n",
    "\n",
    "second_pc = pca.components_[1]\n",
    "\n",
    "first_pc"
   ]
  },
  {
   "cell_type": "code",
   "execution_count": 30,
   "metadata": {},
   "outputs": [
    {
     "data": {
      "text/plain": [
       "array([ 2.93808505,  0.9201649 ,  0.14774182,  0.02085386])"
      ]
     },
     "execution_count": 30,
     "metadata": {},
     "output_type": "execute_result"
    }
   ],
   "source": [
    "#Explained variance\n",
    "\n",
    "pca.explained_variance_"
   ]
  },
  {
   "cell_type": "code",
   "execution_count": 31,
   "metadata": {},
   "outputs": [
    {
     "data": {
      "text/plain": [
       "array([ 0.72962445,  0.22850762,  0.03668922,  0.00517871])"
      ]
     },
     "execution_count": 31,
     "metadata": {},
     "output_type": "execute_result"
    }
   ],
   "source": [
    "#Explained variance ratio\n",
    "\n",
    "pca.explained_variance_ratio_"
   ]
  },
  {
   "cell_type": "code",
   "execution_count": null,
   "metadata": {
    "collapsed": true
   },
   "outputs": [],
   "source": [
    "\n"
   ]
  },
  {
   "cell_type": "code",
   "execution_count": null,
   "metadata": {
    "collapsed": true
   },
   "outputs": [],
   "source": []
  },
  {
   "cell_type": "code",
   "execution_count": null,
   "metadata": {
    "collapsed": true
   },
   "outputs": [],
   "source": []
  },
  {
   "cell_type": "code",
   "execution_count": 32,
   "metadata": {},
   "outputs": [
    {
     "data": {
      "text/plain": [
       "<matplotlib.patches.FancyArrow at 0x1a13dfd198>"
      ]
     },
     "execution_count": 32,
     "metadata": {},
     "output_type": "execute_result"
    },
    {
     "data": {
      "image/png": "[encoded data removed]",
      "text/plain": [
       "<matplotlib.figure.Figure at 0x1a13a39748>"
      ]
     },
     "metadata": {},
     "output_type": "display_data"
    }
   ],
   "source": [
    "# The points presented above indicates the direction of each PCA. lets plot them to see the direction of each \n",
    "\n",
    "x1 = pca.components_[0][0]\n",
    "x2 = pca.components_[0][1]\n",
    "\n",
    "y1 = pca.components_[1][0]\n",
    "y2 = pca.components_[1][1]\n",
    "\n",
    "plt.axis([-.5, 2, -0.9, 2])\n",
    "plt.arrow(0,0,x1,x2, color = 'black', width = .07)\n",
    "plt.arrow(0,0,y1,y2, color = 'brown', width = .07)"
   ]
  },
  {
   "cell_type": "markdown",
   "metadata": {},
   "source": [
    " The black arrow shows the direction of the first principal component. the graph above shows the projections of the data into those axes."
   ]
  },
  {
   "cell_type": "code",
   "execution_count": 33,
   "metadata": {},
   "outputs": [
    {
     "data": {
      "text/plain": [
       "<matplotlib.patches.FancyArrow at 0x1a142f0ba8>"
      ]
     },
     "execution_count": 33,
     "metadata": {},
     "output_type": "execute_result"
    },
    {
     "data": {
      "image/png": "[encoded data removed]",
      "text/plain": [
       "<matplotlib.figure.Figure at 0x1a13e07f28>"
      ]
     },
     "metadata": {},
     "output_type": "display_data"
    }
   ],
   "source": [
    "plt.figure(figsize=(9, 7))\n",
    "plt.scatter(iris_pca[:, 0], iris_pca[:, 1], c = colors, alpha=.4, s = 50)\n",
    "plt.xlabel(\"Principal Component 1\")\n",
    "plt.ylabel(\"Principal Component 2\")\n",
    "plt.arrow(0,0,x1,x2, color = 'brown', width = .1)\n",
    "plt.arrow(0,0,y1,y2, color = 'black', width = .1)\n"
   ]
  },
  {
   "cell_type": "code",
   "execution_count": null,
   "metadata": {
    "collapsed": true
   },
   "outputs": [],
   "source": []
  },
  {
   "cell_type": "markdown",
   "metadata": {},
   "source": [
    "### NBA Player data"
   ]
  },
  {
   "cell_type": "code",
   "execution_count": 34,
   "metadata": {},
   "outputs": [
    {
     "data": {
      "text/html": [
       "<div>\n",
       "<style>\n",
       "    .dataframe thead tr:only-child th {\n",
       "        text-align: right;\n",
       "    }\n",
       "\n",
       "    .dataframe thead th {\n",
       "        text-align: left;\n",
       "    }\n",
       "\n",
       "    .dataframe tbody tr th {\n",
       "        vertical-align: top;\n",
       "    }\n",
       "</style>\n",
       "<table border=\"1\" class=\"dataframe\">\n",
       "  <thead>\n",
       "    <tr style=\"text-align: right;\">\n",
       "      <th></th>\n",
       "      <th>GP</th>\n",
       "      <th>MIN</th>\n",
       "      <th>PTS</th>\n",
       "      <th>FGM</th>\n",
       "      <th>FGA</th>\n",
       "      <th>FG%</th>\n",
       "      <th>3PM</th>\n",
       "      <th>3PA</th>\n",
       "      <th>3P%</th>\n",
       "      <th>FTM</th>\n",
       "      <th>FTA</th>\n",
       "      <th>FT%</th>\n",
       "      <th>OREB</th>\n",
       "      <th>DREB</th>\n",
       "      <th>REB</th>\n",
       "      <th>AST</th>\n",
       "      <th>STL</th>\n",
       "      <th>BLK</th>\n",
       "      <th>TOV</th>\n",
       "      <th>EFF</th>\n",
       "    </tr>\n",
       "  </thead>\n",
       "  <tbody>\n",
       "    <tr>\n",
       "      <th>Russell Westbrook</th>\n",
       "      <td>81</td>\n",
       "      <td>34.6</td>\n",
       "      <td>31.6</td>\n",
       "      <td>10.2</td>\n",
       "      <td>24.0</td>\n",
       "      <td>42.5</td>\n",
       "      <td>2.5</td>\n",
       "      <td>7.2</td>\n",
       "      <td>34.3</td>\n",
       "      <td>8.8</td>\n",
       "      <td>10.4</td>\n",
       "      <td>84.5</td>\n",
       "      <td>1.7</td>\n",
       "      <td>9.0</td>\n",
       "      <td>10.7</td>\n",
       "      <td>10.4</td>\n",
       "      <td>1.6</td>\n",
       "      <td>0.4</td>\n",
       "      <td>5.4</td>\n",
       "      <td>33.8</td>\n",
       "    </tr>\n",
       "    <tr>\n",
       "      <th>James Harden</th>\n",
       "      <td>81</td>\n",
       "      <td>36.4</td>\n",
       "      <td>29.1</td>\n",
       "      <td>8.3</td>\n",
       "      <td>18.9</td>\n",
       "      <td>44.0</td>\n",
       "      <td>3.2</td>\n",
       "      <td>9.3</td>\n",
       "      <td>34.7</td>\n",
       "      <td>9.2</td>\n",
       "      <td>10.9</td>\n",
       "      <td>84.7</td>\n",
       "      <td>1.2</td>\n",
       "      <td>7.0</td>\n",
       "      <td>8.1</td>\n",
       "      <td>11.2</td>\n",
       "      <td>1.5</td>\n",
       "      <td>0.5</td>\n",
       "      <td>5.7</td>\n",
       "      <td>32.4</td>\n",
       "    </tr>\n",
       "    <tr>\n",
       "      <th>Isaiah Thomas</th>\n",
       "      <td>76</td>\n",
       "      <td>33.8</td>\n",
       "      <td>28.9</td>\n",
       "      <td>9.0</td>\n",
       "      <td>19.4</td>\n",
       "      <td>46.3</td>\n",
       "      <td>3.2</td>\n",
       "      <td>8.5</td>\n",
       "      <td>37.9</td>\n",
       "      <td>7.8</td>\n",
       "      <td>8.5</td>\n",
       "      <td>90.9</td>\n",
       "      <td>0.6</td>\n",
       "      <td>2.1</td>\n",
       "      <td>2.7</td>\n",
       "      <td>5.9</td>\n",
       "      <td>0.9</td>\n",
       "      <td>0.2</td>\n",
       "      <td>2.8</td>\n",
       "      <td>24.7</td>\n",
       "    </tr>\n",
       "    <tr>\n",
       "      <th>Anthony Davis</th>\n",
       "      <td>75</td>\n",
       "      <td>36.1</td>\n",
       "      <td>28.0</td>\n",
       "      <td>10.3</td>\n",
       "      <td>20.3</td>\n",
       "      <td>50.5</td>\n",
       "      <td>0.5</td>\n",
       "      <td>1.8</td>\n",
       "      <td>29.9</td>\n",
       "      <td>6.9</td>\n",
       "      <td>8.6</td>\n",
       "      <td>80.2</td>\n",
       "      <td>2.3</td>\n",
       "      <td>9.5</td>\n",
       "      <td>11.8</td>\n",
       "      <td>2.1</td>\n",
       "      <td>1.3</td>\n",
       "      <td>2.2</td>\n",
       "      <td>2.4</td>\n",
       "      <td>31.1</td>\n",
       "    </tr>\n",
       "    <tr>\n",
       "      <th>DeMar DeRozan</th>\n",
       "      <td>74</td>\n",
       "      <td>35.4</td>\n",
       "      <td>27.3</td>\n",
       "      <td>9.7</td>\n",
       "      <td>20.9</td>\n",
       "      <td>46.7</td>\n",
       "      <td>0.4</td>\n",
       "      <td>1.7</td>\n",
       "      <td>26.6</td>\n",
       "      <td>7.4</td>\n",
       "      <td>8.7</td>\n",
       "      <td>84.2</td>\n",
       "      <td>0.9</td>\n",
       "      <td>4.3</td>\n",
       "      <td>5.2</td>\n",
       "      <td>3.9</td>\n",
       "      <td>1.1</td>\n",
       "      <td>0.2</td>\n",
       "      <td>2.4</td>\n",
       "      <td>22.7</td>\n",
       "    </tr>\n",
       "  </tbody>\n",
       "</table>\n",
       "</div>"
      ],
      "text/plain": [
       "                   GP   MIN   PTS   FGM   FGA   FG%  3PM  3PA   3P%  FTM  \\\n",
       "Russell Westbrook  81  34.6  31.6  10.2  24.0  42.5  2.5  7.2  34.3  8.8   \n",
       "James Harden       81  36.4  29.1   8.3  18.9  44.0  3.2  9.3  34.7  9.2   \n",
       "Isaiah Thomas      76  33.8  28.9   9.0  19.4  46.3  3.2  8.5  37.9  7.8   \n",
       "Anthony Davis      75  36.1  28.0  10.3  20.3  50.5  0.5  1.8  29.9  6.9   \n",
       "DeMar DeRozan      74  35.4  27.3   9.7  20.9  46.7  0.4  1.7  26.6  7.4   \n",
       "\n",
       "                    FTA   FT%  OREB  DREB   REB   AST  STL  BLK  TOV   EFF  \n",
       "Russell Westbrook  10.4  84.5   1.7   9.0  10.7  10.4  1.6  0.4  5.4  33.8  \n",
       "James Harden       10.9  84.7   1.2   7.0   8.1  11.2  1.5  0.5  5.7  32.4  \n",
       "Isaiah Thomas       8.5  90.9   0.6   2.1   2.7   5.9  0.9  0.2  2.8  24.7  \n",
       "Anthony Davis       8.6  80.2   2.3   9.5  11.8   2.1  1.3  2.2  2.4  31.1  \n",
       "DeMar DeRozan       8.7  84.2   0.9   4.3   5.2   3.9  1.1  0.2  2.4  22.7  "
      ]
     },
     "execution_count": 34,
     "metadata": {},
     "output_type": "execute_result"
    }
   ],
   "source": [
    "#Load in the wine data\n",
    "path = '../../data/nba_player_data_1617.csv'\n",
    "\n",
    "nba = pd.read_csv('../../data/nba_player_data_1617.csv', index_col=[0])\n",
    "\n",
    "nba.head()"
   ]
  },
  {
   "cell_type": "code",
   "execution_count": 35,
   "metadata": {},
   "outputs": [
    {
     "data": {
      "text/html": [
       "<div>\n",
       "<style>\n",
       "    .dataframe thead tr:only-child th {\n",
       "        text-align: right;\n",
       "    }\n",
       "\n",
       "    .dataframe thead th {\n",
       "        text-align: left;\n",
       "    }\n",
       "\n",
       "    .dataframe tbody tr th {\n",
       "        vertical-align: top;\n",
       "    }\n",
       "</style>\n",
       "<table border=\"1\" class=\"dataframe\">\n",
       "  <thead>\n",
       "    <tr style=\"text-align: right;\">\n",
       "      <th></th>\n",
       "      <th>PTS</th>\n",
       "      <th>OREB</th>\n",
       "      <th>REB</th>\n",
       "      <th>AST</th>\n",
       "      <th>STL</th>\n",
       "      <th>BLK</th>\n",
       "      <th>TOV</th>\n",
       "      <th>MIN</th>\n",
       "      <th>EFF</th>\n",
       "    </tr>\n",
       "  </thead>\n",
       "  <tbody>\n",
       "    <tr>\n",
       "      <th>Russell Westbrook</th>\n",
       "      <td>31.6</td>\n",
       "      <td>1.7</td>\n",
       "      <td>10.7</td>\n",
       "      <td>10.4</td>\n",
       "      <td>1.6</td>\n",
       "      <td>0.4</td>\n",
       "      <td>5.4</td>\n",
       "      <td>34.6</td>\n",
       "      <td>33.8</td>\n",
       "    </tr>\n",
       "    <tr>\n",
       "      <th>James Harden</th>\n",
       "      <td>29.1</td>\n",
       "      <td>1.2</td>\n",
       "      <td>8.1</td>\n",
       "      <td>11.2</td>\n",
       "      <td>1.5</td>\n",
       "      <td>0.5</td>\n",
       "      <td>5.7</td>\n",
       "      <td>36.4</td>\n",
       "      <td>32.4</td>\n",
       "    </tr>\n",
       "    <tr>\n",
       "      <th>Isaiah Thomas</th>\n",
       "      <td>28.9</td>\n",
       "      <td>0.6</td>\n",
       "      <td>2.7</td>\n",
       "      <td>5.9</td>\n",
       "      <td>0.9</td>\n",
       "      <td>0.2</td>\n",
       "      <td>2.8</td>\n",
       "      <td>33.8</td>\n",
       "      <td>24.7</td>\n",
       "    </tr>\n",
       "    <tr>\n",
       "      <th>Anthony Davis</th>\n",
       "      <td>28.0</td>\n",
       "      <td>2.3</td>\n",
       "      <td>11.8</td>\n",
       "      <td>2.1</td>\n",
       "      <td>1.3</td>\n",
       "      <td>2.2</td>\n",
       "      <td>2.4</td>\n",
       "      <td>36.1</td>\n",
       "      <td>31.1</td>\n",
       "    </tr>\n",
       "    <tr>\n",
       "      <th>DeMar DeRozan</th>\n",
       "      <td>27.3</td>\n",
       "      <td>0.9</td>\n",
       "      <td>5.2</td>\n",
       "      <td>3.9</td>\n",
       "      <td>1.1</td>\n",
       "      <td>0.2</td>\n",
       "      <td>2.4</td>\n",
       "      <td>35.4</td>\n",
       "      <td>22.7</td>\n",
       "    </tr>\n",
       "  </tbody>\n",
       "</table>\n",
       "</div>"
      ],
      "text/plain": [
       "                    PTS  OREB   REB   AST  STL  BLK  TOV   MIN   EFF\n",
       "Russell Westbrook  31.6   1.7  10.7  10.4  1.6  0.4  5.4  34.6  33.8\n",
       "James Harden       29.1   1.2   8.1  11.2  1.5  0.5  5.7  36.4  32.4\n",
       "Isaiah Thomas      28.9   0.6   2.7   5.9  0.9  0.2  2.8  33.8  24.7\n",
       "Anthony Davis      28.0   2.3  11.8   2.1  1.3  2.2  2.4  36.1  31.1\n",
       "DeMar DeRozan      27.3   0.9   5.2   3.9  1.1  0.2  2.4  35.4  22.7"
      ]
     },
     "execution_count": 35,
     "metadata": {},
     "output_type": "execute_result"
    }
   ],
   "source": [
    "#Filter dataset\n",
    "\n",
    "cols = [\"PTS\", \"OREB\", \"REB\", \"AST\", \"STL\", \"BLK\", \"TOV\", \"MIN\", \"EFF\"]\n",
    "\n",
    "nba = nba[cols]\n",
    "\n",
    "nba.head()"
   ]
  },
  {
   "cell_type": "code",
   "execution_count": 36,
   "metadata": {
    "collapsed": true
   },
   "outputs": [],
   "source": [
    "#rename columns\n",
    "\n",
    "nba.columns = [\"points\", \"offensive_rebs\", \"total_rebounds\", \"assists\", \"steals\", \"blocks\",\n",
    "              \"turnovers\", \"minutes\", \"efficiency\"]"
   ]
  },
  {
   "cell_type": "markdown",
   "metadata": {},
   "source": [
    "First let's examine the correlations between variables"
   ]
  },
  {
   "cell_type": "code",
   "execution_count": 41,
   "metadata": {},
   "outputs": [
    {
     "data": {
      "text/plain": [
       "<matplotlib.axes._subplots.AxesSubplot at 0x102bbf2e8>"
      ]
     },
     "execution_count": 41,
     "metadata": {},
     "output_type": "execute_result"
    },
    {
     "data": {
      "image/png": "[encoded data removed]",
      "text/plain": [
       "<matplotlib.figure.Figure at 0x1a1329e588>"
      ]
     },
     "metadata": {},
     "output_type": "display_data"
    }
   ],
   "source": [
    "#Correlation heatmap\n",
    "\n",
    "sns.heatmap(nba.corr(), annot = True)"
   ]
  },
  {
   "cell_type": "code",
   "execution_count": null,
   "metadata": {
    "collapsed": true
   },
   "outputs": [],
   "source": []
  },
  {
   "cell_type": "markdown",
   "metadata": {},
   "source": [
    "What do you make of this plot?"
   ]
  },
  {
   "cell_type": "code",
   "execution_count": null,
   "metadata": {
    "collapsed": true
   },
   "outputs": [],
   "source": []
  },
  {
   "cell_type": "code",
   "execution_count": null,
   "metadata": {
    "collapsed": true
   },
   "outputs": [],
   "source": []
  },
  {
   "cell_type": "code",
   "execution_count": null,
   "metadata": {
    "collapsed": true
   },
   "outputs": [],
   "source": []
  },
  {
   "cell_type": "code",
   "execution_count": null,
   "metadata": {
    "collapsed": true
   },
   "outputs": [],
   "source": []
  },
  {
   "cell_type": "markdown",
   "metadata": {},
   "source": [
    "One benefit of PCA is that it can deal with multicollinearity pretty well because multicollinearity simply means that you have excess dimensions in your data."
   ]
  },
  {
   "cell_type": "code",
   "execution_count": null,
   "metadata": {
    "collapsed": true
   },
   "outputs": [],
   "source": []
  },
  {
   "cell_type": "code",
   "execution_count": null,
   "metadata": {
    "collapsed": true
   },
   "outputs": [],
   "source": []
  },
  {
   "cell_type": "code",
   "execution_count": null,
   "metadata": {
    "collapsed": true
   },
   "outputs": [],
   "source": []
  },
  {
   "cell_type": "markdown",
   "metadata": {},
   "source": [
    "Let's go ahead and transform our data with PCA. But first we have to standardize it."
   ]
  },
  {
   "cell_type": "code",
   "execution_count": null,
   "metadata": {
    "collapsed": true
   },
   "outputs": [],
   "source": []
  },
  {
   "cell_type": "code",
   "execution_count": null,
   "metadata": {
    "collapsed": true
   },
   "outputs": [],
   "source": []
  },
  {
   "cell_type": "code",
   "execution_count": 42,
   "metadata": {
    "collapsed": true
   },
   "outputs": [],
   "source": [
    "#Intialize scaler\n",
    "\n",
    "\n",
    "scale = StandardScaler()\n",
    "\n",
    "#Fit and transform wine data using standard scaler\n",
    "\n",
    "nbas = scale.fit_transform(nba)"
   ]
  },
  {
   "cell_type": "code",
   "execution_count": null,
   "metadata": {
    "collapsed": true
   },
   "outputs": [],
   "source": []
  },
  {
   "cell_type": "code",
   "execution_count": 49,
   "metadata": {},
   "outputs": [
    {
     "data": {
      "text/plain": [
       "9"
      ]
     },
     "execution_count": 49,
     "metadata": {},
     "output_type": "execute_result"
    }
   ],
   "source": [
    "#Intialize PCA object\n",
    "#We're deliberating leaving the n_components parameters alone\n",
    "\n",
    "pca = PCA()\n",
    "\n",
    "#Fit and transform wine_s use pca\n",
    "\n",
    "nba_pca = pca.fit_transform(nbas)\n",
    "\n",
    "#Number of components\n",
    "pca.n_components_\n"
   ]
  },
  {
   "cell_type": "code",
   "execution_count": null,
   "metadata": {
    "collapsed": true
   },
   "outputs": [],
   "source": []
  },
  {
   "cell_type": "code",
   "execution_count": null,
   "metadata": {
    "collapsed": true
   },
   "outputs": [],
   "source": []
  },
  {
   "cell_type": "markdown",
   "metadata": {},
   "source": [
    "We did not reduce any of the dimensions of the dataset because we are going to visualize how much variance is explained by all 9 dimensions."
   ]
  },
  {
   "cell_type": "code",
   "execution_count": null,
   "metadata": {
    "collapsed": true
   },
   "outputs": [],
   "source": []
  },
  {
   "cell_type": "code",
   "execution_count": null,
   "metadata": {
    "collapsed": true
   },
   "outputs": [],
   "source": []
  },
  {
   "cell_type": "markdown",
   "metadata": {},
   "source": [
    "Plot the variance explained ratio of the components"
   ]
  },
  {
   "cell_type": "code",
   "execution_count": 50,
   "metadata": {},
   "outputs": [
    {
     "data": {
      "text/plain": [
       "array([ 0.56059991,  0.25067379,  0.05901326,  0.05023642,  0.04141312,\n",
       "        0.01699684,  0.01197103,  0.00848487,  0.00061077])"
      ]
     },
     "execution_count": 50,
     "metadata": {},
     "output_type": "execute_result"
    }
   ],
   "source": [
    "#Shows the percentage of the variance explained by each component\n",
    "pca.explained_variance_ratio_"
   ]
  },
  {
   "cell_type": "markdown",
   "metadata": {},
   "source": [
    "We're going to plot a bar plot of the explained variance ratios and a line plot of the cumulative sum of the explained variance ratios."
   ]
  },
  {
   "cell_type": "code",
   "execution_count": 51,
   "metadata": {},
   "outputs": [
    {
     "data": {
      "text/plain": [
       "Text(0,0.5,'Explained Varianced')"
      ]
     },
     "execution_count": 51,
     "metadata": {},
     "output_type": "execute_result"
    },
    {
     "data": {
      "image/png": "[encoded data removed]",
      "text/plain": [
       "<matplotlib.figure.Figure at 0x1a14c73208>"
      ]
     },
     "metadata": {},
     "output_type": "display_data"
    }
   ],
   "source": [
    "plt.figure(figsize=(8, 6))\n",
    "\n",
    "components = range(1, pca.n_components_ + 1)\n",
    "\n",
    "plt.bar(components, pca.explained_variance_ratio_, label = \"Explained Variance Ratio\")\n",
    "plt.plot(components, np.cumsum(pca.explained_variance_ratio_), c = \"r\", label = \"Cumulative Sum of Explained Variance ratios\")\n",
    "plt.xlabel(\"Components\")\n",
    "plt.ylabel(\"Explained Varianced\")"
   ]
  },
  {
   "cell_type": "code",
   "execution_count": null,
   "metadata": {
    "collapsed": true
   },
   "outputs": [],
   "source": []
  },
  {
   "cell_type": "code",
   "execution_count": null,
   "metadata": {
    "collapsed": true
   },
   "outputs": [],
   "source": []
  },
  {
   "cell_type": "markdown",
   "metadata": {},
   "source": [
    "This tell us that if we view this 9-dimension data on a 2D scatter plot then we would be seeing four-fifths of the total variance in the dataset."
   ]
  },
  {
   "cell_type": "code",
   "execution_count": 52,
   "metadata": {
    "collapsed": true
   },
   "outputs": [],
   "source": [
    "players = [u'Russell Westbrook', u'James Harden', u'Isaiah Thomas',\n",
    "       u'Anthony Davis', u'DeMar DeRozan', u'Damian Lillard',\n",
    "       u'DeMarcus Cousins', u'LeBron James', u'Kawhi Leonard',\n",
    "       u'Stephen Curry', u'Kyrie Irving', u'Karl-Anthony Towns',\n",
    "       u'Kevin Durant', u'Paul George', u'Andrew Wiggins',\n",
    "        u'John Wall', 'Giannis Antetokounmpo', 'Harrison Barnes',\n",
    "          'Kevin Love', 'DeAndre Jordan', 'Serge Ibaka', 'Enes Kanter', 'Rudy Gobert', u'Al Horford',\n",
    "          'Dwight Howard']"
   ]
  },
  {
   "cell_type": "code",
   "execution_count": 54,
   "metadata": {},
   "outputs": [
    {
     "data": {
      "image/png": "[encoded data removed]",
      "text/plain": [
       "<matplotlib.figure.Figure at 0x1a14580f60>"
      ]
     },
     "metadata": {},
     "output_type": "display_data"
    }
   ],
   "source": [
    "#Plotting NBA PCA Data with names\n",
    "nba_pca_df = pd.DataFrame(nba_pca[:, :2], columns=[\"pc1\", \"pc2\"], index=nba.index)\n",
    "\n",
    "plt.figure(figsize=(12, 9))\n",
    "plt.scatter(nba_pca_df.pc1, nba_pca_df.pc2)\n",
    "\n",
    "for player in players:\n",
    "    data = nba_pca_df.loc[player]\n",
    "    plt.annotate(player, (data[\"pc1\"], data[\"pc2\"])) # annotate or connect player name to data point "
   ]
  },
  {
   "cell_type": "code",
   "execution_count": null,
   "metadata": {
    "collapsed": true
   },
   "outputs": [],
   "source": []
  },
  {
   "cell_type": "markdown",
   "metadata": {},
   "source": [
    "How do you label the components based on the weights?"
   ]
  },
  {
   "cell_type": "markdown",
   "metadata": {},
   "source": [
    "Let's print out the component weights with their corresponding variables for PC1, PC2, and PC3"
   ]
  },
  {
   "cell_type": "code",
   "execution_count": 64,
   "metadata": {},
   "outputs": [
    {
     "name": "stdout",
     "output_type": "stream",
     "text": [
      "efficiency 0.433489220672\n",
      "points 0.389439039074\n",
      "minutes 0.385337579419\n",
      "turnovers 0.382045752216\n",
      "total_rebounds 0.31267046583\n",
      "steals 0.304065286539\n",
      "assists 0.297672136011\n",
      "blocks 0.210774714484\n",
      "offensive_rebs 0.206705403903\n"
     ]
    }
   ],
   "source": [
    "#Component 1\n",
    "for col, comp in sorted(zip(nba.columns, pca.components_[0]), key = lambda x:x[1], reverse= True):\n",
    "    print (col, comp)\n"
   ]
  },
  {
   "cell_type": "code",
   "execution_count": 65,
   "metadata": {},
   "outputs": [
    {
     "name": "stdout",
     "output_type": "stream",
     "text": [
      "offensive_rebs 0.537228172032\n",
      "blocks 0.473383884843\n",
      "total_rebounds 0.436168325695\n",
      "efficiency 0.0448547392488\n",
      "minutes -0.104960192114\n",
      "points -0.131826414851\n",
      "turnovers -0.213478518076\n",
      "steals -0.239805546578\n",
      "assists -0.404430722549\n"
     ]
    }
   ],
   "source": [
    "#Component 2\n",
    "\n",
    "for col, comp in sorted(zip(nba.columns, pca.components_[1]), key = lambda x:x[1], reverse= True):\n",
    "    print (col, comp)"
   ]
  },
  {
   "cell_type": "code",
   "execution_count": 66,
   "metadata": {},
   "outputs": [
    {
     "name": "stdout",
     "output_type": "stream",
     "text": [
      "steals 0.815884251741\n",
      "offensive_rebs 0.123868322566\n",
      "blocks 0.114685836921\n",
      "assists 0.109424636285\n",
      "total_rebounds 0.0580033932626\n",
      "minutes -0.10471785666\n",
      "turnovers -0.122001750739\n",
      "efficiency -0.166068161795\n",
      "points -0.486897986781\n"
     ]
    }
   ],
   "source": [
    "#Component 3\n",
    "\n",
    "for col, comp in sorted(zip(nba.columns, pca.components_[2]), key = lambda x:x[1], reverse= True):\n",
    "    print (col, comp)"
   ]
  },
  {
   "cell_type": "code",
   "execution_count": null,
   "metadata": {
    "collapsed": true
   },
   "outputs": [],
   "source": []
  },
  {
   "cell_type": "code",
   "execution_count": null,
   "metadata": {
    "collapsed": true
   },
   "outputs": [],
   "source": []
  },
  {
   "cell_type": "code",
   "execution_count": null,
   "metadata": {
    "collapsed": true
   },
   "outputs": [],
   "source": []
  },
  {
   "cell_type": "code",
   "execution_count": null,
   "metadata": {
    "collapsed": true
   },
   "outputs": [],
   "source": []
  },
  {
   "cell_type": "code",
   "execution_count": null,
   "metadata": {
    "collapsed": true
   },
   "outputs": [],
   "source": []
  },
  {
   "cell_type": "code",
   "execution_count": null,
   "metadata": {
    "collapsed": true
   },
   "outputs": [],
   "source": []
  },
  {
   "cell_type": "code",
   "execution_count": null,
   "metadata": {
    "collapsed": true
   },
   "outputs": [],
   "source": []
  },
  {
   "cell_type": "code",
   "execution_count": null,
   "metadata": {
    "collapsed": true
   },
   "outputs": [],
   "source": []
  },
  {
   "cell_type": "markdown",
   "metadata": {},
   "source": [
    "## Digits"
   ]
  },
  {
   "cell_type": "code",
   "execution_count": 67,
   "metadata": {},
   "outputs": [
    {
     "data": {
      "text/plain": [
       "(1797, 64)"
      ]
     },
     "execution_count": 67,
     "metadata": {},
     "output_type": "execute_result"
    }
   ],
   "source": [
    "#Load in the mnist digits data\n",
    "\n",
    "\n",
    "digits = load_digits()\n",
    "data = digits.data\n",
    "numbers = digits.target\n",
    "\n",
    "#shape of data\n",
    "data.shape"
   ]
  },
  {
   "cell_type": "markdown",
   "metadata": {},
   "source": [
    "Let's PCA the digits data using two components"
   ]
  },
  {
   "cell_type": "code",
   "execution_count": 68,
   "metadata": {
    "collapsed": true
   },
   "outputs": [],
   "source": [
    "#Intialize PCA with 2 components\n",
    "pca =   PCA(2) \n",
    "\n",
    "data_pca = pca.fit_transform(data)"
   ]
  },
  {
   "cell_type": "code",
   "execution_count": null,
   "metadata": {
    "collapsed": true
   },
   "outputs": [],
   "source": []
  },
  {
   "cell_type": "code",
   "execution_count": null,
   "metadata": {
    "collapsed": true
   },
   "outputs": [],
   "source": []
  },
  {
   "cell_type": "markdown",
   "metadata": {},
   "source": [
    "Plot the prinicpal components of the digits dataset using the number labels as the color-encoding"
   ]
  },
  {
   "cell_type": "code",
   "execution_count": 69,
   "metadata": {},
   "outputs": [
    {
     "name": "stderr",
     "output_type": "stream",
     "text": [
      "/Users/TJR/anaconda3/lib/python3.6/site-packages/matplotlib/cbook/deprecation.py:106: MatplotlibDeprecationWarning: The spectral and spectral_r colormap was deprecated in version 2.0. Use nipy_spectral and nipy_spectral_r instead.\n",
      "  warnings.warn(message, mplDeprecation, stacklevel=1)\n"
     ]
    },
    {
     "data": {
      "image/png": "[encoded data removed]",
      "text/plain": [
       "<matplotlib.figure.Figure at 0x1a159ebe10>"
      ]
     },
     "metadata": {},
     "output_type": "display_data"
    }
   ],
   "source": [
    "#PLotting digitis pca data\n",
    "\n",
    "plt.figure(figsize=(10, 10))\n",
    "plt.scatter(data_pca[:, 0], data_pca[:, 1],\n",
    "            c=numbers, edgecolor='none', alpha=0.5,\n",
    "            cmap=plt.cm.get_cmap('spectral', 10))\n",
    "plt.xlabel('Component 1')\n",
    "plt.ylabel('Component 2')\n",
    "plt.colorbar();"
   ]
  },
  {
   "cell_type": "code",
   "execution_count": 70,
   "metadata": {},
   "outputs": [
    {
     "data": {
      "text/plain": [
       "0.28509364823684269"
      ]
     },
     "execution_count": 70,
     "metadata": {},
     "output_type": "execute_result"
    }
   ],
   "source": [
    "#Explained variance of the pca data\n",
    "\n",
    "\n",
    "pca.explained_variance_ratio_.sum()"
   ]
  },
  {
   "cell_type": "code",
   "execution_count": null,
   "metadata": {
    "collapsed": true
   },
   "outputs": [],
   "source": []
  },
  {
   "cell_type": "markdown",
   "metadata": {},
   "source": [
    "2 components gets us about 28.5 of the way there, let's see how many components it takes to get 50, 70, and 90%."
   ]
  },
  {
   "cell_type": "code",
   "execution_count": 71,
   "metadata": {},
   "outputs": [
    {
     "data": {
      "text/plain": [
       "5"
      ]
     },
     "execution_count": 71,
     "metadata": {},
     "output_type": "execute_result"
    }
   ],
   "source": [
    "#We can set n_components equal to a explained variance ratio value\n",
    "\n",
    "#50% EVR\n",
    "pca = PCA(n_components=.5).fit(data)\n",
    "\n",
    "#Number components\n",
    "pca.n_components_"
   ]
  },
  {
   "cell_type": "code",
   "execution_count": 72,
   "metadata": {},
   "outputs": [
    {
     "data": {
      "text/plain": [
       "9"
      ]
     },
     "execution_count": 72,
     "metadata": {},
     "output_type": "execute_result"
    }
   ],
   "source": [
    "#70% EVR\n",
    "pca = PCA(n_components=.7).fit(data)\n",
    "\n",
    "#Number components\n",
    "pca.n_components_"
   ]
  },
  {
   "cell_type": "code",
   "execution_count": 73,
   "metadata": {},
   "outputs": [
    {
     "data": {
      "text/plain": [
       "21"
      ]
     },
     "execution_count": 73,
     "metadata": {},
     "output_type": "execute_result"
    }
   ],
   "source": [
    "#90% EVR\n",
    "pca = PCA(n_components=.9).fit(data)\n",
    "\n",
    "#Number components\n",
    "pca.n_components_"
   ]
  },
  {
   "cell_type": "markdown",
   "metadata": {},
   "source": [
    "Visualize EVR curve"
   ]
  },
  {
   "cell_type": "code",
   "execution_count": 74,
   "metadata": {},
   "outputs": [
    {
     "data": {
      "image/png": "[encoded data removed]",
      "text/plain": [
       "<matplotlib.figure.Figure at 0x1a1514c7f0>"
      ]
     },
     "metadata": {},
     "output_type": "display_data"
    }
   ],
   "source": [
    "#Intialize and fit digits data using PCA\n",
    "pca = PCA().fit(data)\n",
    "plt.figure(figsize=(8, 6))\n",
    "plt.plot(np.cumsum(pca.explained_variance_ratio_))\n",
    "plt.xlabel('number of components')\n",
    "plt.ylabel('cumulative explained variance');"
   ]
  },
  {
   "cell_type": "code",
   "execution_count": null,
   "metadata": {
    "collapsed": true
   },
   "outputs": [],
   "source": []
  },
  {
   "cell_type": "code",
   "execution_count": null,
   "metadata": {
    "collapsed": true
   },
   "outputs": [],
   "source": []
  },
  {
   "cell_type": "code",
   "execution_count": null,
   "metadata": {
    "collapsed": true
   },
   "outputs": [],
   "source": []
  },
  {
   "cell_type": "markdown",
   "metadata": {},
   "source": [
    "## Resources:\n",
    "\n",
    "- https://towardsdatascience.com/pca-using-python-scikit-learn-e653f8989e60\n",
    "- https://jakevdp.github.io/PythonDataScienceHandbook/05.09-principal-component-analysis.html\n",
    "- http://setosa.io/ev/principal-component-analysis/\n",
    "- https://georgemdallas.wordpress.com/2013/10/30/principal-component-analysis-4-dummies-eigenvectors-eigenvalues-and-dimension-reduction/\n",
    "- https://github.com/viniciuspantoja/tutorial_PCA/blob/master/Tutorial_PCA.ipynb\n",
    "- http://sebastianraschka.com/Articles/2015_pca_in_3_steps.html\n",
    "- https://towardsdatascience.com/reducing-dimensionality-from-dimensionality-reduction-techniques-f658aec24dfe\n",
    "- https://towardsdatascience.com/exploratory-data-analysis-into-the-relationship-between-different-types-of-crime-in-london-20c328e193ff\n",
    "- https://www.analyticsvidhya.com/blog/2016/03/practical-guide-principal-component-analysis-python/"
   ]
  },
  {
   "cell_type": "code",
   "execution_count": null,
   "metadata": {
    "collapsed": true
   },
   "outputs": [],
   "source": []
  },
  {
   "cell_type": "code",
   "execution_count": null,
   "metadata": {
    "collapsed": true
   },
   "outputs": [],
   "source": []
  },
  {
   "cell_type": "markdown",
   "metadata": {},
   "source": [
    "## In class\n",
    "\n",
    "1. Use PCA on a supervised learning dataset we've worked with previously to see if PCA-transformed data can produce models as good as the original data.\n",
    "\n",
    "2. Use time to work on final project."
   ]
  },
  {
   "cell_type": "code",
   "execution_count": 76,
   "metadata": {},
   "outputs": [
    {
     "data": {
      "text/html": [
       "<div>\n",
       "<style>\n",
       "    .dataframe thead tr:only-child th {\n",
       "        text-align: right;\n",
       "    }\n",
       "\n",
       "    .dataframe thead th {\n",
       "        text-align: left;\n",
       "    }\n",
       "\n",
       "    .dataframe tbody tr th {\n",
       "        vertical-align: top;\n",
       "    }\n",
       "</style>\n",
       "<table border=\"1\" class=\"dataframe\">\n",
       "  <thead>\n",
       "    <tr style=\"text-align: right;\">\n",
       "      <th></th>\n",
       "      <th>Country</th>\n",
       "      <th>Happiness.Rank</th>\n",
       "      <th>Happiness.Score</th>\n",
       "      <th>Whisker.high</th>\n",
       "      <th>Whisker.low</th>\n",
       "      <th>Economy..GDP.per.Capita.</th>\n",
       "      <th>Family</th>\n",
       "      <th>Health..Life.Expectancy.</th>\n",
       "      <th>Freedom</th>\n",
       "      <th>Generosity</th>\n",
       "      <th>Trust..Government.Corruption.</th>\n",
       "      <th>Dystopia.Residual</th>\n",
       "    </tr>\n",
       "  </thead>\n",
       "  <tbody>\n",
       "    <tr>\n",
       "      <th>0</th>\n",
       "      <td>Norway</td>\n",
       "      <td>1</td>\n",
       "      <td>7.537</td>\n",
       "      <td>7.594445</td>\n",
       "      <td>7.479556</td>\n",
       "      <td>1.616463</td>\n",
       "      <td>1.533524</td>\n",
       "      <td>0.796667</td>\n",
       "      <td>0.635423</td>\n",
       "      <td>0.362012</td>\n",
       "      <td>0.315964</td>\n",
       "      <td>2.277027</td>\n",
       "    </tr>\n",
       "    <tr>\n",
       "      <th>1</th>\n",
       "      <td>Denmark</td>\n",
       "      <td>2</td>\n",
       "      <td>7.522</td>\n",
       "      <td>7.581728</td>\n",
       "      <td>7.462272</td>\n",
       "      <td>1.482383</td>\n",
       "      <td>1.551122</td>\n",
       "      <td>0.792566</td>\n",
       "      <td>0.626007</td>\n",
       "      <td>0.355280</td>\n",
       "      <td>0.400770</td>\n",
       "      <td>2.313707</td>\n",
       "    </tr>\n",
       "    <tr>\n",
       "      <th>2</th>\n",
       "      <td>Iceland</td>\n",
       "      <td>3</td>\n",
       "      <td>7.504</td>\n",
       "      <td>7.622030</td>\n",
       "      <td>7.385970</td>\n",
       "      <td>1.480633</td>\n",
       "      <td>1.610574</td>\n",
       "      <td>0.833552</td>\n",
       "      <td>0.627163</td>\n",
       "      <td>0.475540</td>\n",
       "      <td>0.153527</td>\n",
       "      <td>2.322715</td>\n",
       "    </tr>\n",
       "    <tr>\n",
       "      <th>3</th>\n",
       "      <td>Switzerland</td>\n",
       "      <td>4</td>\n",
       "      <td>7.494</td>\n",
       "      <td>7.561772</td>\n",
       "      <td>7.426227</td>\n",
       "      <td>1.564980</td>\n",
       "      <td>1.516912</td>\n",
       "      <td>0.858131</td>\n",
       "      <td>0.620071</td>\n",
       "      <td>0.290549</td>\n",
       "      <td>0.367007</td>\n",
       "      <td>2.276716</td>\n",
       "    </tr>\n",
       "    <tr>\n",
       "      <th>4</th>\n",
       "      <td>Finland</td>\n",
       "      <td>5</td>\n",
       "      <td>7.469</td>\n",
       "      <td>7.527542</td>\n",
       "      <td>7.410458</td>\n",
       "      <td>1.443572</td>\n",
       "      <td>1.540247</td>\n",
       "      <td>0.809158</td>\n",
       "      <td>0.617951</td>\n",
       "      <td>0.245483</td>\n",
       "      <td>0.382612</td>\n",
       "      <td>2.430182</td>\n",
       "    </tr>\n",
       "    <tr>\n",
       "      <th>5</th>\n",
       "      <td>Netherlands</td>\n",
       "      <td>6</td>\n",
       "      <td>7.377</td>\n",
       "      <td>7.427426</td>\n",
       "      <td>7.326574</td>\n",
       "      <td>1.503945</td>\n",
       "      <td>1.428939</td>\n",
       "      <td>0.810696</td>\n",
       "      <td>0.585384</td>\n",
       "      <td>0.470490</td>\n",
       "      <td>0.282662</td>\n",
       "      <td>2.294804</td>\n",
       "    </tr>\n",
       "    <tr>\n",
       "      <th>6</th>\n",
       "      <td>Canada</td>\n",
       "      <td>7</td>\n",
       "      <td>7.316</td>\n",
       "      <td>7.384403</td>\n",
       "      <td>7.247597</td>\n",
       "      <td>1.479204</td>\n",
       "      <td>1.481349</td>\n",
       "      <td>0.834558</td>\n",
       "      <td>0.611101</td>\n",
       "      <td>0.435540</td>\n",
       "      <td>0.287372</td>\n",
       "      <td>2.187264</td>\n",
       "    </tr>\n",
       "    <tr>\n",
       "      <th>7</th>\n",
       "      <td>New Zealand</td>\n",
       "      <td>8</td>\n",
       "      <td>7.314</td>\n",
       "      <td>7.379510</td>\n",
       "      <td>7.248490</td>\n",
       "      <td>1.405706</td>\n",
       "      <td>1.548195</td>\n",
       "      <td>0.816760</td>\n",
       "      <td>0.614062</td>\n",
       "      <td>0.500005</td>\n",
       "      <td>0.382817</td>\n",
       "      <td>2.046456</td>\n",
       "    </tr>\n",
       "    <tr>\n",
       "      <th>8</th>\n",
       "      <td>Sweden</td>\n",
       "      <td>9</td>\n",
       "      <td>7.284</td>\n",
       "      <td>7.344095</td>\n",
       "      <td>7.223905</td>\n",
       "      <td>1.494387</td>\n",
       "      <td>1.478162</td>\n",
       "      <td>0.830875</td>\n",
       "      <td>0.612924</td>\n",
       "      <td>0.385399</td>\n",
       "      <td>0.384399</td>\n",
       "      <td>2.097538</td>\n",
       "    </tr>\n",
       "    <tr>\n",
       "      <th>9</th>\n",
       "      <td>Australia</td>\n",
       "      <td>10</td>\n",
       "      <td>7.284</td>\n",
       "      <td>7.356651</td>\n",
       "      <td>7.211349</td>\n",
       "      <td>1.484415</td>\n",
       "      <td>1.510042</td>\n",
       "      <td>0.843887</td>\n",
       "      <td>0.601607</td>\n",
       "      <td>0.477699</td>\n",
       "      <td>0.301184</td>\n",
       "      <td>2.065211</td>\n",
       "    </tr>\n",
       "    <tr>\n",
       "      <th>10</th>\n",
       "      <td>Israel</td>\n",
       "      <td>11</td>\n",
       "      <td>7.213</td>\n",
       "      <td>7.279853</td>\n",
       "      <td>7.146146</td>\n",
       "      <td>1.375382</td>\n",
       "      <td>1.376290</td>\n",
       "      <td>0.838404</td>\n",
       "      <td>0.405989</td>\n",
       "      <td>0.330083</td>\n",
       "      <td>0.085242</td>\n",
       "      <td>2.801757</td>\n",
       "    </tr>\n",
       "    <tr>\n",
       "      <th>11</th>\n",
       "      <td>Costa Rica</td>\n",
       "      <td>12</td>\n",
       "      <td>7.079</td>\n",
       "      <td>7.168112</td>\n",
       "      <td>6.989888</td>\n",
       "      <td>1.109706</td>\n",
       "      <td>1.416404</td>\n",
       "      <td>0.759509</td>\n",
       "      <td>0.580132</td>\n",
       "      <td>0.214613</td>\n",
       "      <td>0.100107</td>\n",
       "      <td>2.898639</td>\n",
       "    </tr>\n",
       "    <tr>\n",
       "      <th>12</th>\n",
       "      <td>Austria</td>\n",
       "      <td>13</td>\n",
       "      <td>7.006</td>\n",
       "      <td>7.070670</td>\n",
       "      <td>6.941330</td>\n",
       "      <td>1.487097</td>\n",
       "      <td>1.459945</td>\n",
       "      <td>0.815328</td>\n",
       "      <td>0.567766</td>\n",
       "      <td>0.316472</td>\n",
       "      <td>0.221060</td>\n",
       "      <td>2.138506</td>\n",
       "    </tr>\n",
       "    <tr>\n",
       "      <th>13</th>\n",
       "      <td>United States</td>\n",
       "      <td>14</td>\n",
       "      <td>6.993</td>\n",
       "      <td>7.074657</td>\n",
       "      <td>6.911343</td>\n",
       "      <td>1.546259</td>\n",
       "      <td>1.419921</td>\n",
       "      <td>0.774287</td>\n",
       "      <td>0.505741</td>\n",
       "      <td>0.392579</td>\n",
       "      <td>0.135639</td>\n",
       "      <td>2.218113</td>\n",
       "    </tr>\n",
       "    <tr>\n",
       "      <th>14</th>\n",
       "      <td>Ireland</td>\n",
       "      <td>15</td>\n",
       "      <td>6.977</td>\n",
       "      <td>7.043352</td>\n",
       "      <td>6.910649</td>\n",
       "      <td>1.535707</td>\n",
       "      <td>1.558231</td>\n",
       "      <td>0.809783</td>\n",
       "      <td>0.573110</td>\n",
       "      <td>0.427858</td>\n",
       "      <td>0.298388</td>\n",
       "      <td>1.773869</td>\n",
       "    </tr>\n",
       "    <tr>\n",
       "      <th>15</th>\n",
       "      <td>Germany</td>\n",
       "      <td>16</td>\n",
       "      <td>6.951</td>\n",
       "      <td>7.005382</td>\n",
       "      <td>6.896619</td>\n",
       "      <td>1.487923</td>\n",
       "      <td>1.472520</td>\n",
       "      <td>0.798951</td>\n",
       "      <td>0.562511</td>\n",
       "      <td>0.336269</td>\n",
       "      <td>0.276732</td>\n",
       "      <td>2.015770</td>\n",
       "    </tr>\n",
       "    <tr>\n",
       "      <th>16</th>\n",
       "      <td>Belgium</td>\n",
       "      <td>17</td>\n",
       "      <td>6.891</td>\n",
       "      <td>6.955821</td>\n",
       "      <td>6.826179</td>\n",
       "      <td>1.463781</td>\n",
       "      <td>1.462313</td>\n",
       "      <td>0.818092</td>\n",
       "      <td>0.539771</td>\n",
       "      <td>0.231503</td>\n",
       "      <td>0.251343</td>\n",
       "      <td>2.124210</td>\n",
       "    </tr>\n",
       "    <tr>\n",
       "      <th>17</th>\n",
       "      <td>Luxembourg</td>\n",
       "      <td>18</td>\n",
       "      <td>6.863</td>\n",
       "      <td>6.923686</td>\n",
       "      <td>6.802314</td>\n",
       "      <td>1.741944</td>\n",
       "      <td>1.457584</td>\n",
       "      <td>0.845089</td>\n",
       "      <td>0.596628</td>\n",
       "      <td>0.283181</td>\n",
       "      <td>0.318834</td>\n",
       "      <td>1.619512</td>\n",
       "    </tr>\n",
       "    <tr>\n",
       "      <th>18</th>\n",
       "      <td>United Kingdom</td>\n",
       "      <td>19</td>\n",
       "      <td>6.714</td>\n",
       "      <td>6.783792</td>\n",
       "      <td>6.644209</td>\n",
       "      <td>1.441634</td>\n",
       "      <td>1.496460</td>\n",
       "      <td>0.805336</td>\n",
       "      <td>0.508190</td>\n",
       "      <td>0.492774</td>\n",
       "      <td>0.265428</td>\n",
       "      <td>1.704144</td>\n",
       "    </tr>\n",
       "    <tr>\n",
       "      <th>19</th>\n",
       "      <td>Chile</td>\n",
       "      <td>20</td>\n",
       "      <td>6.652</td>\n",
       "      <td>6.739251</td>\n",
       "      <td>6.564749</td>\n",
       "      <td>1.252785</td>\n",
       "      <td>1.284025</td>\n",
       "      <td>0.819480</td>\n",
       "      <td>0.376895</td>\n",
       "      <td>0.326662</td>\n",
       "      <td>0.082288</td>\n",
       "      <td>2.509586</td>\n",
       "    </tr>\n",
       "    <tr>\n",
       "      <th>20</th>\n",
       "      <td>United Arab Emirates</td>\n",
       "      <td>21</td>\n",
       "      <td>6.648</td>\n",
       "      <td>6.722047</td>\n",
       "      <td>6.573952</td>\n",
       "      <td>1.626343</td>\n",
       "      <td>1.266410</td>\n",
       "      <td>0.726798</td>\n",
       "      <td>0.608345</td>\n",
       "      <td>0.360942</td>\n",
       "      <td>0.324490</td>\n",
       "      <td>1.734704</td>\n",
       "    </tr>\n",
       "    <tr>\n",
       "      <th>21</th>\n",
       "      <td>Brazil</td>\n",
       "      <td>22</td>\n",
       "      <td>6.635</td>\n",
       "      <td>6.725470</td>\n",
       "      <td>6.544531</td>\n",
       "      <td>1.107353</td>\n",
       "      <td>1.431306</td>\n",
       "      <td>0.616552</td>\n",
       "      <td>0.437454</td>\n",
       "      <td>0.162350</td>\n",
       "      <td>0.111093</td>\n",
       "      <td>2.769267</td>\n",
       "    </tr>\n",
       "    <tr>\n",
       "      <th>22</th>\n",
       "      <td>Czech Republic</td>\n",
       "      <td>23</td>\n",
       "      <td>6.609</td>\n",
       "      <td>6.683862</td>\n",
       "      <td>6.534138</td>\n",
       "      <td>1.352682</td>\n",
       "      <td>1.433885</td>\n",
       "      <td>0.754444</td>\n",
       "      <td>0.490946</td>\n",
       "      <td>0.088107</td>\n",
       "      <td>0.036873</td>\n",
       "      <td>2.451862</td>\n",
       "    </tr>\n",
       "    <tr>\n",
       "      <th>23</th>\n",
       "      <td>Argentina</td>\n",
       "      <td>24</td>\n",
       "      <td>6.599</td>\n",
       "      <td>6.690085</td>\n",
       "      <td>6.507915</td>\n",
       "      <td>1.185295</td>\n",
       "      <td>1.440451</td>\n",
       "      <td>0.695137</td>\n",
       "      <td>0.494519</td>\n",
       "      <td>0.109457</td>\n",
       "      <td>0.059740</td>\n",
       "      <td>2.614005</td>\n",
       "    </tr>\n",
       "    <tr>\n",
       "      <th>24</th>\n",
       "      <td>Mexico</td>\n",
       "      <td>25</td>\n",
       "      <td>6.578</td>\n",
       "      <td>6.671149</td>\n",
       "      <td>6.484851</td>\n",
       "      <td>1.153184</td>\n",
       "      <td>1.210862</td>\n",
       "      <td>0.709979</td>\n",
       "      <td>0.412730</td>\n",
       "      <td>0.120990</td>\n",
       "      <td>0.132774</td>\n",
       "      <td>2.837155</td>\n",
       "    </tr>\n",
       "    <tr>\n",
       "      <th>25</th>\n",
       "      <td>Singapore</td>\n",
       "      <td>26</td>\n",
       "      <td>6.572</td>\n",
       "      <td>6.636723</td>\n",
       "      <td>6.507277</td>\n",
       "      <td>1.692278</td>\n",
       "      <td>1.353814</td>\n",
       "      <td>0.949492</td>\n",
       "      <td>0.549841</td>\n",
       "      <td>0.345966</td>\n",
       "      <td>0.464308</td>\n",
       "      <td>1.216362</td>\n",
       "    </tr>\n",
       "    <tr>\n",
       "      <th>26</th>\n",
       "      <td>Malta</td>\n",
       "      <td>27</td>\n",
       "      <td>6.527</td>\n",
       "      <td>6.598397</td>\n",
       "      <td>6.455603</td>\n",
       "      <td>1.343280</td>\n",
       "      <td>1.488412</td>\n",
       "      <td>0.821944</td>\n",
       "      <td>0.588767</td>\n",
       "      <td>0.574731</td>\n",
       "      <td>0.153066</td>\n",
       "      <td>1.556863</td>\n",
       "    </tr>\n",
       "    <tr>\n",
       "      <th>27</th>\n",
       "      <td>Uruguay</td>\n",
       "      <td>28</td>\n",
       "      <td>6.454</td>\n",
       "      <td>6.545906</td>\n",
       "      <td>6.362094</td>\n",
       "      <td>1.217560</td>\n",
       "      <td>1.412228</td>\n",
       "      <td>0.719217</td>\n",
       "      <td>0.579392</td>\n",
       "      <td>0.175097</td>\n",
       "      <td>0.178062</td>\n",
       "      <td>2.172410</td>\n",
       "    </tr>\n",
       "    <tr>\n",
       "      <th>28</th>\n",
       "      <td>Guatemala</td>\n",
       "      <td>29</td>\n",
       "      <td>6.454</td>\n",
       "      <td>6.566874</td>\n",
       "      <td>6.341126</td>\n",
       "      <td>0.872002</td>\n",
       "      <td>1.255585</td>\n",
       "      <td>0.540240</td>\n",
       "      <td>0.531311</td>\n",
       "      <td>0.283488</td>\n",
       "      <td>0.077223</td>\n",
       "      <td>2.893891</td>\n",
       "    </tr>\n",
       "    <tr>\n",
       "      <th>29</th>\n",
       "      <td>Panama</td>\n",
       "      <td>30</td>\n",
       "      <td>6.452</td>\n",
       "      <td>6.557131</td>\n",
       "      <td>6.346870</td>\n",
       "      <td>1.233748</td>\n",
       "      <td>1.373193</td>\n",
       "      <td>0.706156</td>\n",
       "      <td>0.550027</td>\n",
       "      <td>0.210557</td>\n",
       "      <td>0.070984</td>\n",
       "      <td>2.307200</td>\n",
       "    </tr>\n",
       "    <tr>\n",
       "      <th>...</th>\n",
       "      <td>...</td>\n",
       "      <td>...</td>\n",
       "      <td>...</td>\n",
       "      <td>...</td>\n",
       "      <td>...</td>\n",
       "      <td>...</td>\n",
       "      <td>...</td>\n",
       "      <td>...</td>\n",
       "      <td>...</td>\n",
       "      <td>...</td>\n",
       "      <td>...</td>\n",
       "      <td>...</td>\n",
       "    </tr>\n",
       "    <tr>\n",
       "      <th>125</th>\n",
       "      <td>Congo (Kinshasa)</td>\n",
       "      <td>126</td>\n",
       "      <td>4.280</td>\n",
       "      <td>4.357811</td>\n",
       "      <td>4.202190</td>\n",
       "      <td>0.092102</td>\n",
       "      <td>1.229023</td>\n",
       "      <td>0.191407</td>\n",
       "      <td>0.235961</td>\n",
       "      <td>0.246456</td>\n",
       "      <td>0.060241</td>\n",
       "      <td>2.224959</td>\n",
       "    </tr>\n",
       "    <tr>\n",
       "      <th>126</th>\n",
       "      <td>Mali</td>\n",
       "      <td>127</td>\n",
       "      <td>4.190</td>\n",
       "      <td>4.269671</td>\n",
       "      <td>4.110329</td>\n",
       "      <td>0.476180</td>\n",
       "      <td>1.281473</td>\n",
       "      <td>0.169366</td>\n",
       "      <td>0.306614</td>\n",
       "      <td>0.183354</td>\n",
       "      <td>0.104970</td>\n",
       "      <td>1.668191</td>\n",
       "    </tr>\n",
       "    <tr>\n",
       "      <th>127</th>\n",
       "      <td>Ivory Coast</td>\n",
       "      <td>128</td>\n",
       "      <td>4.180</td>\n",
       "      <td>4.275183</td>\n",
       "      <td>4.084817</td>\n",
       "      <td>0.603049</td>\n",
       "      <td>0.904780</td>\n",
       "      <td>0.048642</td>\n",
       "      <td>0.447706</td>\n",
       "      <td>0.201237</td>\n",
       "      <td>0.130062</td>\n",
       "      <td>1.844964</td>\n",
       "    </tr>\n",
       "    <tr>\n",
       "      <th>128</th>\n",
       "      <td>Cambodia</td>\n",
       "      <td>129</td>\n",
       "      <td>4.168</td>\n",
       "      <td>4.278518</td>\n",
       "      <td>4.057483</td>\n",
       "      <td>0.601765</td>\n",
       "      <td>1.006238</td>\n",
       "      <td>0.429783</td>\n",
       "      <td>0.633376</td>\n",
       "      <td>0.385923</td>\n",
       "      <td>0.068106</td>\n",
       "      <td>1.042941</td>\n",
       "    </tr>\n",
       "    <tr>\n",
       "      <th>129</th>\n",
       "      <td>Sudan</td>\n",
       "      <td>130</td>\n",
       "      <td>4.139</td>\n",
       "      <td>4.345747</td>\n",
       "      <td>3.932253</td>\n",
       "      <td>0.659517</td>\n",
       "      <td>1.214009</td>\n",
       "      <td>0.290921</td>\n",
       "      <td>0.014996</td>\n",
       "      <td>0.182317</td>\n",
       "      <td>0.089848</td>\n",
       "      <td>1.687066</td>\n",
       "    </tr>\n",
       "    <tr>\n",
       "      <th>130</th>\n",
       "      <td>Ghana</td>\n",
       "      <td>131</td>\n",
       "      <td>4.120</td>\n",
       "      <td>4.222707</td>\n",
       "      <td>4.017293</td>\n",
       "      <td>0.667225</td>\n",
       "      <td>0.873665</td>\n",
       "      <td>0.295638</td>\n",
       "      <td>0.423026</td>\n",
       "      <td>0.256924</td>\n",
       "      <td>0.025336</td>\n",
       "      <td>1.577868</td>\n",
       "    </tr>\n",
       "    <tr>\n",
       "      <th>131</th>\n",
       "      <td>Ukraine</td>\n",
       "      <td>132</td>\n",
       "      <td>4.096</td>\n",
       "      <td>4.185410</td>\n",
       "      <td>4.006590</td>\n",
       "      <td>0.894652</td>\n",
       "      <td>1.394538</td>\n",
       "      <td>0.575904</td>\n",
       "      <td>0.122975</td>\n",
       "      <td>0.270061</td>\n",
       "      <td>0.023029</td>\n",
       "      <td>0.814382</td>\n",
       "    </tr>\n",
       "    <tr>\n",
       "      <th>132</th>\n",
       "      <td>Uganda</td>\n",
       "      <td>133</td>\n",
       "      <td>4.081</td>\n",
       "      <td>4.195800</td>\n",
       "      <td>3.966200</td>\n",
       "      <td>0.381431</td>\n",
       "      <td>1.129828</td>\n",
       "      <td>0.217633</td>\n",
       "      <td>0.443186</td>\n",
       "      <td>0.325766</td>\n",
       "      <td>0.057070</td>\n",
       "      <td>1.526363</td>\n",
       "    </tr>\n",
       "    <tr>\n",
       "      <th>133</th>\n",
       "      <td>Burkina Faso</td>\n",
       "      <td>134</td>\n",
       "      <td>4.032</td>\n",
       "      <td>4.124059</td>\n",
       "      <td>3.939941</td>\n",
       "      <td>0.350228</td>\n",
       "      <td>1.043280</td>\n",
       "      <td>0.215844</td>\n",
       "      <td>0.324368</td>\n",
       "      <td>0.250865</td>\n",
       "      <td>0.120328</td>\n",
       "      <td>1.727213</td>\n",
       "    </tr>\n",
       "    <tr>\n",
       "      <th>134</th>\n",
       "      <td>Niger</td>\n",
       "      <td>135</td>\n",
       "      <td>4.028</td>\n",
       "      <td>4.111947</td>\n",
       "      <td>3.944053</td>\n",
       "      <td>0.161925</td>\n",
       "      <td>0.993025</td>\n",
       "      <td>0.268505</td>\n",
       "      <td>0.363659</td>\n",
       "      <td>0.228674</td>\n",
       "      <td>0.138573</td>\n",
       "      <td>1.873983</td>\n",
       "    </tr>\n",
       "    <tr>\n",
       "      <th>135</th>\n",
       "      <td>Malawi</td>\n",
       "      <td>136</td>\n",
       "      <td>3.970</td>\n",
       "      <td>4.077479</td>\n",
       "      <td>3.862521</td>\n",
       "      <td>0.233442</td>\n",
       "      <td>0.512569</td>\n",
       "      <td>0.315090</td>\n",
       "      <td>0.466915</td>\n",
       "      <td>0.287170</td>\n",
       "      <td>0.072712</td>\n",
       "      <td>2.081786</td>\n",
       "    </tr>\n",
       "    <tr>\n",
       "      <th>136</th>\n",
       "      <td>Chad</td>\n",
       "      <td>137</td>\n",
       "      <td>3.936</td>\n",
       "      <td>4.034712</td>\n",
       "      <td>3.837289</td>\n",
       "      <td>0.438013</td>\n",
       "      <td>0.953856</td>\n",
       "      <td>0.041135</td>\n",
       "      <td>0.162342</td>\n",
       "      <td>0.216114</td>\n",
       "      <td>0.053582</td>\n",
       "      <td>2.071238</td>\n",
       "    </tr>\n",
       "    <tr>\n",
       "      <th>137</th>\n",
       "      <td>Zimbabwe</td>\n",
       "      <td>138</td>\n",
       "      <td>3.875</td>\n",
       "      <td>3.978700</td>\n",
       "      <td>3.771300</td>\n",
       "      <td>0.375847</td>\n",
       "      <td>1.083096</td>\n",
       "      <td>0.196764</td>\n",
       "      <td>0.336384</td>\n",
       "      <td>0.189143</td>\n",
       "      <td>0.095375</td>\n",
       "      <td>1.597970</td>\n",
       "    </tr>\n",
       "    <tr>\n",
       "      <th>138</th>\n",
       "      <td>Lesotho</td>\n",
       "      <td>139</td>\n",
       "      <td>3.808</td>\n",
       "      <td>4.044344</td>\n",
       "      <td>3.571656</td>\n",
       "      <td>0.521021</td>\n",
       "      <td>1.190095</td>\n",
       "      <td>0.000000</td>\n",
       "      <td>0.390661</td>\n",
       "      <td>0.157497</td>\n",
       "      <td>0.119095</td>\n",
       "      <td>1.429835</td>\n",
       "    </tr>\n",
       "    <tr>\n",
       "      <th>139</th>\n",
       "      <td>Angola</td>\n",
       "      <td>140</td>\n",
       "      <td>3.795</td>\n",
       "      <td>3.951642</td>\n",
       "      <td>3.638358</td>\n",
       "      <td>0.858428</td>\n",
       "      <td>1.104412</td>\n",
       "      <td>0.049869</td>\n",
       "      <td>0.000000</td>\n",
       "      <td>0.097926</td>\n",
       "      <td>0.069720</td>\n",
       "      <td>1.614482</td>\n",
       "    </tr>\n",
       "    <tr>\n",
       "      <th>140</th>\n",
       "      <td>Afghanistan</td>\n",
       "      <td>141</td>\n",
       "      <td>3.794</td>\n",
       "      <td>3.873661</td>\n",
       "      <td>3.714338</td>\n",
       "      <td>0.401477</td>\n",
       "      <td>0.581543</td>\n",
       "      <td>0.180747</td>\n",
       "      <td>0.106180</td>\n",
       "      <td>0.311871</td>\n",
       "      <td>0.061158</td>\n",
       "      <td>2.150801</td>\n",
       "    </tr>\n",
       "    <tr>\n",
       "      <th>141</th>\n",
       "      <td>Botswana</td>\n",
       "      <td>142</td>\n",
       "      <td>3.766</td>\n",
       "      <td>3.874123</td>\n",
       "      <td>3.657877</td>\n",
       "      <td>1.122094</td>\n",
       "      <td>1.221555</td>\n",
       "      <td>0.341756</td>\n",
       "      <td>0.505196</td>\n",
       "      <td>0.099348</td>\n",
       "      <td>0.098583</td>\n",
       "      <td>0.377914</td>\n",
       "    </tr>\n",
       "    <tr>\n",
       "      <th>142</th>\n",
       "      <td>Benin</td>\n",
       "      <td>143</td>\n",
       "      <td>3.657</td>\n",
       "      <td>3.745784</td>\n",
       "      <td>3.568217</td>\n",
       "      <td>0.431085</td>\n",
       "      <td>0.435300</td>\n",
       "      <td>0.209930</td>\n",
       "      <td>0.425963</td>\n",
       "      <td>0.207948</td>\n",
       "      <td>0.060929</td>\n",
       "      <td>1.885631</td>\n",
       "    </tr>\n",
       "    <tr>\n",
       "      <th>143</th>\n",
       "      <td>Madagascar</td>\n",
       "      <td>144</td>\n",
       "      <td>3.644</td>\n",
       "      <td>3.714319</td>\n",
       "      <td>3.573681</td>\n",
       "      <td>0.305809</td>\n",
       "      <td>0.913020</td>\n",
       "      <td>0.375223</td>\n",
       "      <td>0.189197</td>\n",
       "      <td>0.208733</td>\n",
       "      <td>0.067232</td>\n",
       "      <td>1.584613</td>\n",
       "    </tr>\n",
       "    <tr>\n",
       "      <th>144</th>\n",
       "      <td>Haiti</td>\n",
       "      <td>145</td>\n",
       "      <td>3.603</td>\n",
       "      <td>3.734715</td>\n",
       "      <td>3.471285</td>\n",
       "      <td>0.368610</td>\n",
       "      <td>0.640450</td>\n",
       "      <td>0.277321</td>\n",
       "      <td>0.030370</td>\n",
       "      <td>0.489204</td>\n",
       "      <td>0.099872</td>\n",
       "      <td>1.697168</td>\n",
       "    </tr>\n",
       "    <tr>\n",
       "      <th>145</th>\n",
       "      <td>Yemen</td>\n",
       "      <td>146</td>\n",
       "      <td>3.593</td>\n",
       "      <td>3.692750</td>\n",
       "      <td>3.493250</td>\n",
       "      <td>0.591683</td>\n",
       "      <td>0.935382</td>\n",
       "      <td>0.310081</td>\n",
       "      <td>0.249464</td>\n",
       "      <td>0.104125</td>\n",
       "      <td>0.056767</td>\n",
       "      <td>1.345601</td>\n",
       "    </tr>\n",
       "    <tr>\n",
       "      <th>146</th>\n",
       "      <td>South Sudan</td>\n",
       "      <td>147</td>\n",
       "      <td>3.591</td>\n",
       "      <td>3.725539</td>\n",
       "      <td>3.456462</td>\n",
       "      <td>0.397249</td>\n",
       "      <td>0.601323</td>\n",
       "      <td>0.163486</td>\n",
       "      <td>0.147062</td>\n",
       "      <td>0.285671</td>\n",
       "      <td>0.116794</td>\n",
       "      <td>1.879567</td>\n",
       "    </tr>\n",
       "    <tr>\n",
       "      <th>147</th>\n",
       "      <td>Liberia</td>\n",
       "      <td>148</td>\n",
       "      <td>3.533</td>\n",
       "      <td>3.653756</td>\n",
       "      <td>3.412244</td>\n",
       "      <td>0.119042</td>\n",
       "      <td>0.872118</td>\n",
       "      <td>0.229918</td>\n",
       "      <td>0.332881</td>\n",
       "      <td>0.266550</td>\n",
       "      <td>0.038948</td>\n",
       "      <td>1.673286</td>\n",
       "    </tr>\n",
       "    <tr>\n",
       "      <th>148</th>\n",
       "      <td>Guinea</td>\n",
       "      <td>149</td>\n",
       "      <td>3.507</td>\n",
       "      <td>3.584428</td>\n",
       "      <td>3.429572</td>\n",
       "      <td>0.244550</td>\n",
       "      <td>0.791245</td>\n",
       "      <td>0.194129</td>\n",
       "      <td>0.348588</td>\n",
       "      <td>0.264815</td>\n",
       "      <td>0.110938</td>\n",
       "      <td>1.552312</td>\n",
       "    </tr>\n",
       "    <tr>\n",
       "      <th>149</th>\n",
       "      <td>Togo</td>\n",
       "      <td>150</td>\n",
       "      <td>3.495</td>\n",
       "      <td>3.594038</td>\n",
       "      <td>3.395962</td>\n",
       "      <td>0.305445</td>\n",
       "      <td>0.431883</td>\n",
       "      <td>0.247106</td>\n",
       "      <td>0.380426</td>\n",
       "      <td>0.196896</td>\n",
       "      <td>0.095665</td>\n",
       "      <td>1.837229</td>\n",
       "    </tr>\n",
       "    <tr>\n",
       "      <th>150</th>\n",
       "      <td>Rwanda</td>\n",
       "      <td>151</td>\n",
       "      <td>3.471</td>\n",
       "      <td>3.543030</td>\n",
       "      <td>3.398970</td>\n",
       "      <td>0.368746</td>\n",
       "      <td>0.945707</td>\n",
       "      <td>0.326425</td>\n",
       "      <td>0.581844</td>\n",
       "      <td>0.252756</td>\n",
       "      <td>0.455220</td>\n",
       "      <td>0.540061</td>\n",
       "    </tr>\n",
       "    <tr>\n",
       "      <th>151</th>\n",
       "      <td>Syria</td>\n",
       "      <td>152</td>\n",
       "      <td>3.462</td>\n",
       "      <td>3.663669</td>\n",
       "      <td>3.260331</td>\n",
       "      <td>0.777153</td>\n",
       "      <td>0.396103</td>\n",
       "      <td>0.500533</td>\n",
       "      <td>0.081539</td>\n",
       "      <td>0.493664</td>\n",
       "      <td>0.151347</td>\n",
       "      <td>1.061574</td>\n",
       "    </tr>\n",
       "    <tr>\n",
       "      <th>152</th>\n",
       "      <td>Tanzania</td>\n",
       "      <td>153</td>\n",
       "      <td>3.349</td>\n",
       "      <td>3.461430</td>\n",
       "      <td>3.236570</td>\n",
       "      <td>0.511136</td>\n",
       "      <td>1.041990</td>\n",
       "      <td>0.364509</td>\n",
       "      <td>0.390018</td>\n",
       "      <td>0.354256</td>\n",
       "      <td>0.066035</td>\n",
       "      <td>0.621130</td>\n",
       "    </tr>\n",
       "    <tr>\n",
       "      <th>153</th>\n",
       "      <td>Burundi</td>\n",
       "      <td>154</td>\n",
       "      <td>2.905</td>\n",
       "      <td>3.074690</td>\n",
       "      <td>2.735310</td>\n",
       "      <td>0.091623</td>\n",
       "      <td>0.629794</td>\n",
       "      <td>0.151611</td>\n",
       "      <td>0.059901</td>\n",
       "      <td>0.204435</td>\n",
       "      <td>0.084148</td>\n",
       "      <td>1.683024</td>\n",
       "    </tr>\n",
       "    <tr>\n",
       "      <th>154</th>\n",
       "      <td>Central African Republic</td>\n",
       "      <td>155</td>\n",
       "      <td>2.693</td>\n",
       "      <td>2.864884</td>\n",
       "      <td>2.521116</td>\n",
       "      <td>0.000000</td>\n",
       "      <td>0.000000</td>\n",
       "      <td>0.018773</td>\n",
       "      <td>0.270842</td>\n",
       "      <td>0.280876</td>\n",
       "      <td>0.056565</td>\n",
       "      <td>2.066005</td>\n",
       "    </tr>\n",
       "  </tbody>\n",
       "</table>\n",
       "<p>155 rows × 12 columns</p>\n",
       "</div>"
      ],
      "text/plain": [
       "                      Country  Happiness.Rank  Happiness.Score  Whisker.high  \\\n",
       "0                      Norway               1            7.537      7.594445   \n",
       "1                     Denmark               2            7.522      7.581728   \n",
       "2                     Iceland               3            7.504      7.622030   \n",
       "3                 Switzerland               4            7.494      7.561772   \n",
       "4                     Finland               5            7.469      7.527542   \n",
       "5                 Netherlands               6            7.377      7.427426   \n",
       "6                      Canada               7            7.316      7.384403   \n",
       "7                 New Zealand               8            7.314      7.379510   \n",
       "8                      Sweden               9            7.284      7.344095   \n",
       "9                   Australia              10            7.284      7.356651   \n",
       "10                     Israel              11            7.213      7.279853   \n",
       "11                 Costa Rica              12            7.079      7.168112   \n",
       "12                    Austria              13            7.006      7.070670   \n",
       "13              United States              14            6.993      7.074657   \n",
       "14                    Ireland              15            6.977      7.043352   \n",
       "15                    Germany              16            6.951      7.005382   \n",
       "16                    Belgium              17            6.891      6.955821   \n",
       "17                 Luxembourg              18            6.863      6.923686   \n",
       "18             United Kingdom              19            6.714      6.783792   \n",
       "19                      Chile              20            6.652      6.739251   \n",
       "20       United Arab Emirates              21            6.648      6.722047   \n",
       "21                     Brazil              22            6.635      6.725470   \n",
       "22             Czech Republic              23            6.609      6.683862   \n",
       "23                  Argentina              24            6.599      6.690085   \n",
       "24                     Mexico              25            6.578      6.671149   \n",
       "25                  Singapore              26            6.572      6.636723   \n",
       "26                      Malta              27            6.527      6.598397   \n",
       "27                    Uruguay              28            6.454      6.545906   \n",
       "28                  Guatemala              29            6.454      6.566874   \n",
       "29                     Panama              30            6.452      6.557131   \n",
       "..                        ...             ...              ...           ...   \n",
       "125          Congo (Kinshasa)             126            4.280      4.357811   \n",
       "126                      Mali             127            4.190      4.269671   \n",
       "127               Ivory Coast             128            4.180      4.275183   \n",
       "128                  Cambodia             129            4.168      4.278518   \n",
       "129                     Sudan             130            4.139      4.345747   \n",
       "130                     Ghana             131            4.120      4.222707   \n",
       "131                   Ukraine             132            4.096      4.185410   \n",
       "132                    Uganda             133            4.081      4.195800   \n",
       "133              Burkina Faso             134            4.032      4.124059   \n",
       "134                     Niger             135            4.028      4.111947   \n",
       "135                    Malawi             136            3.970      4.077479   \n",
       "136                      Chad             137            3.936      4.034712   \n",
       "137                  Zimbabwe             138            3.875      3.978700   \n",
       "138                   Lesotho             139            3.808      4.044344   \n",
       "139                    Angola             140            3.795      3.951642   \n",
       "140               Afghanistan             141            3.794      3.873661   \n",
       "141                  Botswana             142            3.766      3.874123   \n",
       "142                     Benin             143            3.657      3.745784   \n",
       "143                Madagascar             144            3.644      3.714319   \n",
       "144                     Haiti             145            3.603      3.734715   \n",
       "145                     Yemen             146            3.593      3.692750   \n",
       "146               South Sudan             147            3.591      3.725539   \n",
       "147                   Liberia             148            3.533      3.653756   \n",
       "148                    Guinea             149            3.507      3.584428   \n",
       "149                      Togo             150            3.495      3.594038   \n",
       "150                    Rwanda             151            3.471      3.543030   \n",
       "151                     Syria             152            3.462      3.663669   \n",
       "152                  Tanzania             153            3.349      3.461430   \n",
       "153                   Burundi             154            2.905      3.074690   \n",
       "154  Central African Republic             155            2.693      2.864884   \n",
       "\n",
       "     Whisker.low  Economy..GDP.per.Capita.    Family  \\\n",
       "0       7.479556                  1.616463  1.533524   \n",
       "1       7.462272                  1.482383  1.551122   \n",
       "2       7.385970                  1.480633  1.610574   \n",
       "3       7.426227                  1.564980  1.516912   \n",
       "4       7.410458                  1.443572  1.540247   \n",
       "5       7.326574                  1.503945  1.428939   \n",
       "6       7.247597                  1.479204  1.481349   \n",
       "7       7.248490                  1.405706  1.548195   \n",
       "8       7.223905                  1.494387  1.478162   \n",
       "9       7.211349                  1.484415  1.510042   \n",
       "10      7.146146                  1.375382  1.376290   \n",
       "11      6.989888                  1.109706  1.416404   \n",
       "12      6.941330                  1.487097  1.459945   \n",
       "13      6.911343                  1.546259  1.419921   \n",
       "14      6.910649                  1.535707  1.558231   \n",
       "15      6.896619                  1.487923  1.472520   \n",
       "16      6.826179                  1.463781  1.462313   \n",
       "17      6.802314                  1.741944  1.457584   \n",
       "18      6.644209                  1.441634  1.496460   \n",
       "19      6.564749                  1.252785  1.284025   \n",
       "20      6.573952                  1.626343  1.266410   \n",
       "21      6.544531                  1.107353  1.431306   \n",
       "22      6.534138                  1.352682  1.433885   \n",
       "23      6.507915                  1.185295  1.440451   \n",
       "24      6.484851                  1.153184  1.210862   \n",
       "25      6.507277                  1.692278  1.353814   \n",
       "26      6.455603                  1.343280  1.488412   \n",
       "27      6.362094                  1.217560  1.412228   \n",
       "28      6.341126                  0.872002  1.255585   \n",
       "29      6.346870                  1.233748  1.373193   \n",
       "..           ...                       ...       ...   \n",
       "125     4.202190                  0.092102  1.229023   \n",
       "126     4.110329                  0.476180  1.281473   \n",
       "127     4.084817                  0.603049  0.904780   \n",
       "128     4.057483                  0.601765  1.006238   \n",
       "129     3.932253                  0.659517  1.214009   \n",
       "130     4.017293                  0.667225  0.873665   \n",
       "131     4.006590                  0.894652  1.394538   \n",
       "132     3.966200                  0.381431  1.129828   \n",
       "133     3.939941                  0.350228  1.043280   \n",
       "134     3.944053                  0.161925  0.993025   \n",
       "135     3.862521                  0.233442  0.512569   \n",
       "136     3.837289                  0.438013  0.953856   \n",
       "137     3.771300                  0.375847  1.083096   \n",
       "138     3.571656                  0.521021  1.190095   \n",
       "139     3.638358                  0.858428  1.104412   \n",
       "140     3.714338                  0.401477  0.581543   \n",
       "141     3.657877                  1.122094  1.221555   \n",
       "142     3.568217                  0.431085  0.435300   \n",
       "143     3.573681                  0.305809  0.913020   \n",
       "144     3.471285                  0.368610  0.640450   \n",
       "145     3.493250                  0.591683  0.935382   \n",
       "146     3.456462                  0.397249  0.601323   \n",
       "147     3.412244                  0.119042  0.872118   \n",
       "148     3.429572                  0.244550  0.791245   \n",
       "149     3.395962                  0.305445  0.431883   \n",
       "150     3.398970                  0.368746  0.945707   \n",
       "151     3.260331                  0.777153  0.396103   \n",
       "152     3.236570                  0.511136  1.041990   \n",
       "153     2.735310                  0.091623  0.629794   \n",
       "154     2.521116                  0.000000  0.000000   \n",
       "\n",
       "     Health..Life.Expectancy.   Freedom  Generosity  \\\n",
       "0                    0.796667  0.635423    0.362012   \n",
       "1                    0.792566  0.626007    0.355280   \n",
       "2                    0.833552  0.627163    0.475540   \n",
       "3                    0.858131  0.620071    0.290549   \n",
       "4                    0.809158  0.617951    0.245483   \n",
       "5                    0.810696  0.585384    0.470490   \n",
       "6                    0.834558  0.611101    0.435540   \n",
       "7                    0.816760  0.614062    0.500005   \n",
       "8                    0.830875  0.612924    0.385399   \n",
       "9                    0.843887  0.601607    0.477699   \n",
       "10                   0.838404  0.405989    0.330083   \n",
       "11                   0.759509  0.580132    0.214613   \n",
       "12                   0.815328  0.567766    0.316472   \n",
       "13                   0.774287  0.505741    0.392579   \n",
       "14                   0.809783  0.573110    0.427858   \n",
       "15                   0.798951  0.562511    0.336269   \n",
       "16                   0.818092  0.539771    0.231503   \n",
       "17                   0.845089  0.596628    0.283181   \n",
       "18                   0.805336  0.508190    0.492774   \n",
       "19                   0.819480  0.376895    0.326662   \n",
       "20                   0.726798  0.608345    0.360942   \n",
       "21                   0.616552  0.437454    0.162350   \n",
       "22                   0.754444  0.490946    0.088107   \n",
       "23                   0.695137  0.494519    0.109457   \n",
       "24                   0.709979  0.412730    0.120990   \n",
       "25                   0.949492  0.549841    0.345966   \n",
       "26                   0.821944  0.588767    0.574731   \n",
       "27                   0.719217  0.579392    0.175097   \n",
       "28                   0.540240  0.531311    0.283488   \n",
       "29                   0.706156  0.550027    0.210557   \n",
       "..                        ...       ...         ...   \n",
       "125                  0.191407  0.235961    0.246456   \n",
       "126                  0.169366  0.306614    0.183354   \n",
       "127                  0.048642  0.447706    0.201237   \n",
       "128                  0.429783  0.633376    0.385923   \n",
       "129                  0.290921  0.014996    0.182317   \n",
       "130                  0.295638  0.423026    0.256924   \n",
       "131                  0.575904  0.122975    0.270061   \n",
       "132                  0.217633  0.443186    0.325766   \n",
       "133                  0.215844  0.324368    0.250865   \n",
       "134                  0.268505  0.363659    0.228674   \n",
       "135                  0.315090  0.466915    0.287170   \n",
       "136                  0.041135  0.162342    0.216114   \n",
       "137                  0.196764  0.336384    0.189143   \n",
       "138                  0.000000  0.390661    0.157497   \n",
       "139                  0.049869  0.000000    0.097926   \n",
       "140                  0.180747  0.106180    0.311871   \n",
       "141                  0.341756  0.505196    0.099348   \n",
       "142                  0.209930  0.425963    0.207948   \n",
       "143                  0.375223  0.189197    0.208733   \n",
       "144                  0.277321  0.030370    0.489204   \n",
       "145                  0.310081  0.249464    0.104125   \n",
       "146                  0.163486  0.147062    0.285671   \n",
       "147                  0.229918  0.332881    0.266550   \n",
       "148                  0.194129  0.348588    0.264815   \n",
       "149                  0.247106  0.380426    0.196896   \n",
       "150                  0.326425  0.581844    0.252756   \n",
       "151                  0.500533  0.081539    0.493664   \n",
       "152                  0.364509  0.390018    0.354256   \n",
       "153                  0.151611  0.059901    0.204435   \n",
       "154                  0.018773  0.270842    0.280876   \n",
       "\n",
       "     Trust..Government.Corruption.  Dystopia.Residual  \n",
       "0                         0.315964           2.277027  \n",
       "1                         0.400770           2.313707  \n",
       "2                         0.153527           2.322715  \n",
       "3                         0.367007           2.276716  \n",
       "4                         0.382612           2.430182  \n",
       "5                         0.282662           2.294804  \n",
       "6                         0.287372           2.187264  \n",
       "7                         0.382817           2.046456  \n",
       "8                         0.384399           2.097538  \n",
       "9                         0.301184           2.065211  \n",
       "10                        0.085242           2.801757  \n",
       "11                        0.100107           2.898639  \n",
       "12                        0.221060           2.138506  \n",
       "13                        0.135639           2.218113  \n",
       "14                        0.298388           1.773869  \n",
       "15                        0.276732           2.015770  \n",
       "16                        0.251343           2.124210  \n",
       "17                        0.318834           1.619512  \n",
       "18                        0.265428           1.704144  \n",
       "19                        0.082288           2.509586  \n",
       "20                        0.324490           1.734704  \n",
       "21                        0.111093           2.769267  \n",
       "22                        0.036873           2.451862  \n",
       "23                        0.059740           2.614005  \n",
       "24                        0.132774           2.837155  \n",
       "25                        0.464308           1.216362  \n",
       "26                        0.153066           1.556863  \n",
       "27                        0.178062           2.172410  \n",
       "28                        0.077223           2.893891  \n",
       "29                        0.070984           2.307200  \n",
       "..                             ...                ...  \n",
       "125                       0.060241           2.224959  \n",
       "126                       0.104970           1.668191  \n",
       "127                       0.130062           1.844964  \n",
       "128                       0.068106           1.042941  \n",
       "129                       0.089848           1.687066  \n",
       "130                       0.025336           1.577868  \n",
       "131                       0.023029           0.814382  \n",
       "132                       0.057070           1.526363  \n",
       "133                       0.120328           1.727213  \n",
       "134                       0.138573           1.873983  \n",
       "135                       0.072712           2.081786  \n",
       "136                       0.053582           2.071238  \n",
       "137                       0.095375           1.597970  \n",
       "138                       0.119095           1.429835  \n",
       "139                       0.069720           1.614482  \n",
       "140                       0.061158           2.150801  \n",
       "141                       0.098583           0.377914  \n",
       "142                       0.060929           1.885631  \n",
       "143                       0.067232           1.584613  \n",
       "144                       0.099872           1.697168  \n",
       "145                       0.056767           1.345601  \n",
       "146                       0.116794           1.879567  \n",
       "147                       0.038948           1.673286  \n",
       "148                       0.110938           1.552312  \n",
       "149                       0.095665           1.837229  \n",
       "150                       0.455220           0.540061  \n",
       "151                       0.151347           1.061574  \n",
       "152                       0.066035           0.621130  \n",
       "153                       0.084148           1.683024  \n",
       "154                       0.056565           2.066005  \n",
       "\n",
       "[155 rows x 12 columns]"
      ]
     },
     "execution_count": 76,
     "metadata": {},
     "output_type": "execute_result"
    }
   ],
   "source": [
    "path = pd.read_csv(\"../../data/world-happiness-report/2017.csv\")\n",
    "path"
   ]
  },
  {
   "cell_type": "code",
   "execution_count": 93,
   "metadata": {},
   "outputs": [
    {
     "data": {
      "text/html": [
       "<div>\n",
       "<style>\n",
       "    .dataframe thead tr:only-child th {\n",
       "        text-align: right;\n",
       "    }\n",
       "\n",
       "    .dataframe thead th {\n",
       "        text-align: left;\n",
       "    }\n",
       "\n",
       "    .dataframe tbody tr th {\n",
       "        vertical-align: top;\n",
       "    }\n",
       "</style>\n",
       "<table border=\"1\" class=\"dataframe\">\n",
       "  <thead>\n",
       "    <tr style=\"text-align: right;\">\n",
       "      <th></th>\n",
       "      <th>country</th>\n",
       "      <th>happiness.rank</th>\n",
       "      <th>happiness.score</th>\n",
       "      <th>whisker.high</th>\n",
       "      <th>whisker.low</th>\n",
       "      <th>economy..gdp.per.capita.</th>\n",
       "      <th>family</th>\n",
       "      <th>health..life.expectancy.</th>\n",
       "      <th>freedom</th>\n",
       "      <th>generosity</th>\n",
       "      <th>trust..government.corruption.</th>\n",
       "      <th>dystopia.residual</th>\n",
       "    </tr>\n",
       "  </thead>\n",
       "  <tbody>\n",
       "    <tr>\n",
       "      <th>0</th>\n",
       "      <td>norway</td>\n",
       "      <td>1</td>\n",
       "      <td>7.53700017929</td>\n",
       "      <td>7.59444482058</td>\n",
       "      <td>7.479555538</td>\n",
       "      <td>1.61646318436</td>\n",
       "      <td>1.53352355957</td>\n",
       "      <td>0.796666502953</td>\n",
       "      <td>0.635422587395</td>\n",
       "      <td>0.36201223731</td>\n",
       "      <td>0.315963834524</td>\n",
       "      <td>2.27702665329</td>\n",
       "    </tr>\n",
       "    <tr>\n",
       "      <th>1</th>\n",
       "      <td>denmark</td>\n",
       "      <td>2</td>\n",
       "      <td>7.52199983597</td>\n",
       "      <td>7.58172806486</td>\n",
       "      <td>7.46227160707</td>\n",
       "      <td>1.48238301277</td>\n",
       "      <td>1.55112159252</td>\n",
       "      <td>0.792565524578</td>\n",
       "      <td>0.62600672245</td>\n",
       "      <td>0.355280488729</td>\n",
       "      <td>0.400770068169</td>\n",
       "      <td>2.31370735168</td>\n",
       "    </tr>\n",
       "    <tr>\n",
       "      <th>2</th>\n",
       "      <td>iceland</td>\n",
       "      <td>3</td>\n",
       "      <td>7.50400018692</td>\n",
       "      <td>7.62203047305</td>\n",
       "      <td>7.38596990079</td>\n",
       "      <td>1.4806330204</td>\n",
       "      <td>1.61057400703</td>\n",
       "      <td>0.833552122116</td>\n",
       "      <td>0.627162635326</td>\n",
       "      <td>0.475540220737</td>\n",
       "      <td>0.153526559472</td>\n",
       "      <td>2.32271528244</td>\n",
       "    </tr>\n",
       "    <tr>\n",
       "      <th>3</th>\n",
       "      <td>switzerland</td>\n",
       "      <td>4</td>\n",
       "      <td>7.49399995804</td>\n",
       "      <td>7.56177242041</td>\n",
       "      <td>7.42622749567</td>\n",
       "      <td>1.56497955322</td>\n",
       "      <td>1.51691174507</td>\n",
       "      <td>0.858131289482</td>\n",
       "      <td>0.620070576668</td>\n",
       "      <td>0.290549278259</td>\n",
       "      <td>0.367007285357</td>\n",
       "      <td>2.2767162323</td>\n",
       "    </tr>\n",
       "    <tr>\n",
       "      <th>4</th>\n",
       "      <td>finland</td>\n",
       "      <td>5</td>\n",
       "      <td>7.46899986267</td>\n",
       "      <td>7.52754207581</td>\n",
       "      <td>7.41045764953</td>\n",
       "      <td>1.44357192516</td>\n",
       "      <td>1.54024672508</td>\n",
       "      <td>0.809157669544</td>\n",
       "      <td>0.617950856686</td>\n",
       "      <td>0.245482772589</td>\n",
       "      <td>0.38261154294</td>\n",
       "      <td>2.4301815033</td>\n",
       "    </tr>\n",
       "    <tr>\n",
       "      <th>5</th>\n",
       "      <td>netherlands</td>\n",
       "      <td>6</td>\n",
       "      <td>7.37699985504</td>\n",
       "      <td>7.42742584124</td>\n",
       "      <td>7.32657386884</td>\n",
       "      <td>1.50394463539</td>\n",
       "      <td>1.42893922329</td>\n",
       "      <td>0.810696125031</td>\n",
       "      <td>0.585384488106</td>\n",
       "      <td>0.470489829779</td>\n",
       "      <td>0.282661825418</td>\n",
       "      <td>2.29480409622</td>\n",
       "    </tr>\n",
       "    <tr>\n",
       "      <th>6</th>\n",
       "      <td>canada</td>\n",
       "      <td>7</td>\n",
       "      <td>7.31599998474</td>\n",
       "      <td>7.38440283537</td>\n",
       "      <td>7.24759713411</td>\n",
       "      <td>1.47920441628</td>\n",
       "      <td>1.48134899139</td>\n",
       "      <td>0.834557652473</td>\n",
       "      <td>0.611100912094</td>\n",
       "      <td>0.435539722443</td>\n",
       "      <td>0.287371516228</td>\n",
       "      <td>2.18726444244</td>\n",
       "    </tr>\n",
       "    <tr>\n",
       "      <th>7</th>\n",
       "      <td>new zealand</td>\n",
       "      <td>8</td>\n",
       "      <td>7.3140001297</td>\n",
       "      <td>7.37951044187</td>\n",
       "      <td>7.24848981753</td>\n",
       "      <td>1.40570604801</td>\n",
       "      <td>1.54819512367</td>\n",
       "      <td>0.816759705544</td>\n",
       "      <td>0.614062130451</td>\n",
       "      <td>0.500005125999</td>\n",
       "      <td>0.382816702127</td>\n",
       "      <td>2.04645633698</td>\n",
       "    </tr>\n",
       "    <tr>\n",
       "      <th>8</th>\n",
       "      <td>sweden</td>\n",
       "      <td>9</td>\n",
       "      <td>7.28399991989</td>\n",
       "      <td>7.34409487739</td>\n",
       "      <td>7.22390496239</td>\n",
       "      <td>1.49438726902</td>\n",
       "      <td>1.47816216946</td>\n",
       "      <td>0.83087515831</td>\n",
       "      <td>0.612924098969</td>\n",
       "      <td>0.385399252176</td>\n",
       "      <td>0.384398728609</td>\n",
       "      <td>2.09753799438</td>\n",
       "    </tr>\n",
       "    <tr>\n",
       "      <th>9</th>\n",
       "      <td>australia</td>\n",
       "      <td>10</td>\n",
       "      <td>7.28399991989</td>\n",
       "      <td>7.35665122494</td>\n",
       "      <td>7.21134861484</td>\n",
       "      <td>1.48441493511</td>\n",
       "      <td>1.51004195213</td>\n",
       "      <td>0.84388679266</td>\n",
       "      <td>0.601607382298</td>\n",
       "      <td>0.477699249983</td>\n",
       "      <td>0.301183730364</td>\n",
       "      <td>2.06521081924</td>\n",
       "    </tr>\n",
       "    <tr>\n",
       "      <th>10</th>\n",
       "      <td>israel</td>\n",
       "      <td>11</td>\n",
       "      <td>7.21299982071</td>\n",
       "      <td>7.27985325649</td>\n",
       "      <td>7.14614638492</td>\n",
       "      <td>1.3753824234</td>\n",
       "      <td>1.37628996372</td>\n",
       "      <td>0.838403999805</td>\n",
       "      <td>0.40598860383</td>\n",
       "      <td>0.330082654953</td>\n",
       "      <td>0.08524210006</td>\n",
       "      <td>2.80175733566</td>\n",
       "    </tr>\n",
       "    <tr>\n",
       "      <th>11</th>\n",
       "      <td>costa rica</td>\n",
       "      <td>12</td>\n",
       "      <td>7.07899999619</td>\n",
       "      <td>7.16811166629</td>\n",
       "      <td>6.98988832608</td>\n",
       "      <td>1.10970628262</td>\n",
       "      <td>1.41640365124</td>\n",
       "      <td>0.759509265423</td>\n",
       "      <td>0.580131649971</td>\n",
       "      <td>0.214613229036</td>\n",
       "      <td>0.100106589496</td>\n",
       "      <td>2.89863920212</td>\n",
       "    </tr>\n",
       "    <tr>\n",
       "      <th>12</th>\n",
       "      <td>austria</td>\n",
       "      <td>13</td>\n",
       "      <td>7.00600004196</td>\n",
       "      <td>7.07066981211</td>\n",
       "      <td>6.94133027181</td>\n",
       "      <td>1.48709726334</td>\n",
       "      <td>1.45994496346</td>\n",
       "      <td>0.815328419209</td>\n",
       "      <td>0.567766189575</td>\n",
       "      <td>0.316472321749</td>\n",
       "      <td>0.221060365438</td>\n",
       "      <td>2.13850641251</td>\n",
       "    </tr>\n",
       "    <tr>\n",
       "      <th>13</th>\n",
       "      <td>united states</td>\n",
       "      <td>14</td>\n",
       "      <td>6.99300003052</td>\n",
       "      <td>7.07465674758</td>\n",
       "      <td>6.91134331346</td>\n",
       "      <td>1.54625928402</td>\n",
       "      <td>1.4199205637</td>\n",
       "      <td>0.774286627769</td>\n",
       "      <td>0.505740523338</td>\n",
       "      <td>0.392578780651</td>\n",
       "      <td>0.135638788342</td>\n",
       "      <td>2.21811342239</td>\n",
       "    </tr>\n",
       "    <tr>\n",
       "      <th>14</th>\n",
       "      <td>ireland</td>\n",
       "      <td>15</td>\n",
       "      <td>6.97700023651</td>\n",
       "      <td>7.04335166752</td>\n",
       "      <td>6.9106488055</td>\n",
       "      <td>1.53570663929</td>\n",
       "      <td>1.55823111534</td>\n",
       "      <td>0.809782624245</td>\n",
       "      <td>0.573110342026</td>\n",
       "      <td>0.427858322859</td>\n",
       "      <td>0.298388153315</td>\n",
       "      <td>1.77386903763</td>\n",
       "    </tr>\n",
       "    <tr>\n",
       "      <th>15</th>\n",
       "      <td>germany</td>\n",
       "      <td>16</td>\n",
       "      <td>6.95100021362</td>\n",
       "      <td>7.00538156927</td>\n",
       "      <td>6.89661885798</td>\n",
       "      <td>1.48792338371</td>\n",
       "      <td>1.47252035141</td>\n",
       "      <td>0.798950731754</td>\n",
       "      <td>0.562511384487</td>\n",
       "      <td>0.336269170046</td>\n",
       "      <td>0.276731938124</td>\n",
       "      <td>2.0157699585</td>\n",
       "    </tr>\n",
       "    <tr>\n",
       "      <th>16</th>\n",
       "      <td>belgium</td>\n",
       "      <td>17</td>\n",
       "      <td>6.89099979401</td>\n",
       "      <td>6.95582075045</td>\n",
       "      <td>6.82617883757</td>\n",
       "      <td>1.46378076077</td>\n",
       "      <td>1.46231269836</td>\n",
       "      <td>0.818091869354</td>\n",
       "      <td>0.539770722389</td>\n",
       "      <td>0.231503337622</td>\n",
       "      <td>0.251343131065</td>\n",
       "      <td>2.12421035767</td>\n",
       "    </tr>\n",
       "    <tr>\n",
       "      <th>17</th>\n",
       "      <td>luxembourg</td>\n",
       "      <td>18</td>\n",
       "      <td>6.86299991608</td>\n",
       "      <td>6.92368609987</td>\n",
       "      <td>6.80231373228</td>\n",
       "      <td>1.74194359779</td>\n",
       "      <td>1.45758366585</td>\n",
       "      <td>0.845089495182</td>\n",
       "      <td>0.596627891064</td>\n",
       "      <td>0.283180981874</td>\n",
       "      <td>0.318834424019</td>\n",
       "      <td>1.61951208115</td>\n",
       "    </tr>\n",
       "    <tr>\n",
       "      <th>18</th>\n",
       "      <td>united kingdom</td>\n",
       "      <td>19</td>\n",
       "      <td>6.71400022507</td>\n",
       "      <td>6.7837917611</td>\n",
       "      <td>6.64420868903</td>\n",
       "      <td>1.44163393974</td>\n",
       "      <td>1.49646008015</td>\n",
       "      <td>0.805335938931</td>\n",
       "      <td>0.50819003582</td>\n",
       "      <td>0.492774158716</td>\n",
       "      <td>0.265428066254</td>\n",
       "      <td>1.70414352417</td>\n",
       "    </tr>\n",
       "    <tr>\n",
       "      <th>19</th>\n",
       "      <td>chile</td>\n",
       "      <td>20</td>\n",
       "      <td>6.65199995041</td>\n",
       "      <td>6.7392505601</td>\n",
       "      <td>6.56474934071</td>\n",
       "      <td>1.25278460979</td>\n",
       "      <td>1.28402495384</td>\n",
       "      <td>0.819479703903</td>\n",
       "      <td>0.376895278692</td>\n",
       "      <td>0.326662421227</td>\n",
       "      <td>0.0822879821062</td>\n",
       "      <td>2.50958585739</td>\n",
       "    </tr>\n",
       "    <tr>\n",
       "      <th>20</th>\n",
       "      <td>united arab emirates</td>\n",
       "      <td>21</td>\n",
       "      <td>6.64799976349</td>\n",
       "      <td>6.72204730377</td>\n",
       "      <td>6.57395222321</td>\n",
       "      <td>1.62634336948</td>\n",
       "      <td>1.26641023159</td>\n",
       "      <td>0.72679823637</td>\n",
       "      <td>0.608345270157</td>\n",
       "      <td>0.360941946507</td>\n",
       "      <td>0.324489563704</td>\n",
       "      <td>1.7347035408</td>\n",
       "    </tr>\n",
       "    <tr>\n",
       "      <th>21</th>\n",
       "      <td>brazil</td>\n",
       "      <td>22</td>\n",
       "      <td>6.63500022888</td>\n",
       "      <td>6.72546950161</td>\n",
       "      <td>6.54453095615</td>\n",
       "      <td>1.10735321045</td>\n",
       "      <td>1.43130600452</td>\n",
       "      <td>0.616552352905</td>\n",
       "      <td>0.437453746796</td>\n",
       "      <td>0.162349894643</td>\n",
       "      <td>0.111092761159</td>\n",
       "      <td>2.76926708221</td>\n",
       "    </tr>\n",
       "    <tr>\n",
       "      <th>22</th>\n",
       "      <td>czech republic</td>\n",
       "      <td>23</td>\n",
       "      <td>6.60900020599</td>\n",
       "      <td>6.68386246264</td>\n",
       "      <td>6.53413794935</td>\n",
       "      <td>1.35268235207</td>\n",
       "      <td>1.43388521671</td>\n",
       "      <td>0.754444003105</td>\n",
       "      <td>0.490946173668</td>\n",
       "      <td>0.0881067588925</td>\n",
       "      <td>0.0368729270995</td>\n",
       "      <td>2.45186185837</td>\n",
       "    </tr>\n",
       "    <tr>\n",
       "      <th>23</th>\n",
       "      <td>argentina</td>\n",
       "      <td>24</td>\n",
       "      <td>6.59899997711</td>\n",
       "      <td>6.69008508608</td>\n",
       "      <td>6.50791486815</td>\n",
       "      <td>1.18529546261</td>\n",
       "      <td>1.44045114517</td>\n",
       "      <td>0.69513708353</td>\n",
       "      <td>0.494519203901</td>\n",
       "      <td>0.109457060695</td>\n",
       "      <td>0.0597398877144</td>\n",
       "      <td>2.61400532722</td>\n",
       "    </tr>\n",
       "    <tr>\n",
       "      <th>24</th>\n",
       "      <td>mexico</td>\n",
       "      <td>25</td>\n",
       "      <td>6.57800006866</td>\n",
       "      <td>6.67114890769</td>\n",
       "      <td>6.48485122964</td>\n",
       "      <td>1.15318381786</td>\n",
       "      <td>1.21086215973</td>\n",
       "      <td>0.709978997707</td>\n",
       "      <td>0.412730008364</td>\n",
       "      <td>0.120990432799</td>\n",
       "      <td>0.132774114609</td>\n",
       "      <td>2.83715486526</td>\n",
       "    </tr>\n",
       "    <tr>\n",
       "      <th>25</th>\n",
       "      <td>singapore</td>\n",
       "      <td>26</td>\n",
       "      <td>6.5720000267</td>\n",
       "      <td>6.6367230691</td>\n",
       "      <td>6.5072769843</td>\n",
       "      <td>1.69227766991</td>\n",
       "      <td>1.35381436348</td>\n",
       "      <td>0.949492394924</td>\n",
       "      <td>0.549840569496</td>\n",
       "      <td>0.345965981483</td>\n",
       "      <td>0.464307785034</td>\n",
       "      <td>1.21636199951</td>\n",
       "    </tr>\n",
       "    <tr>\n",
       "      <th>26</th>\n",
       "      <td>malta</td>\n",
       "      <td>27</td>\n",
       "      <td>6.52699995041</td>\n",
       "      <td>6.59839677289</td>\n",
       "      <td>6.45560312793</td>\n",
       "      <td>1.34327983856</td>\n",
       "      <td>1.48841166496</td>\n",
       "      <td>0.821944236755</td>\n",
       "      <td>0.588767051697</td>\n",
       "      <td>0.574730575085</td>\n",
       "      <td>0.153066068888</td>\n",
       "      <td>1.55686283112</td>\n",
       "    </tr>\n",
       "    <tr>\n",
       "      <th>27</th>\n",
       "      <td>uruguay</td>\n",
       "      <td>28</td>\n",
       "      <td>6.45399999619</td>\n",
       "      <td>6.54590621769</td>\n",
       "      <td>6.36209377468</td>\n",
       "      <td>1.21755969524</td>\n",
       "      <td>1.41222786903</td>\n",
       "      <td>0.719216823578</td>\n",
       "      <td>0.579392254353</td>\n",
       "      <td>0.175096929073</td>\n",
       "      <td>0.178061872721</td>\n",
       "      <td>2.17240953445</td>\n",
       "    </tr>\n",
       "    <tr>\n",
       "      <th>28</th>\n",
       "      <td>guatemala</td>\n",
       "      <td>29</td>\n",
       "      <td>6.45399999619</td>\n",
       "      <td>6.56687397271</td>\n",
       "      <td>6.34112601966</td>\n",
       "      <td>0.872001945972</td>\n",
       "      <td>1.25558519363</td>\n",
       "      <td>0.540239989758</td>\n",
       "      <td>0.531310617924</td>\n",
       "      <td>0.28348839283</td>\n",
       "      <td>0.0772232785821</td>\n",
       "      <td>2.89389109612</td>\n",
       "    </tr>\n",
       "    <tr>\n",
       "      <th>29</th>\n",
       "      <td>panama</td>\n",
       "      <td>30</td>\n",
       "      <td>6.45200014114</td>\n",
       "      <td>6.55713071615</td>\n",
       "      <td>6.34686956614</td>\n",
       "      <td>1.23374843597</td>\n",
       "      <td>1.37319254875</td>\n",
       "      <td>0.706156134605</td>\n",
       "      <td>0.550026834011</td>\n",
       "      <td>0.210556939244</td>\n",
       "      <td>0.0709839239717</td>\n",
       "      <td>2.30719995499</td>\n",
       "    </tr>\n",
       "    <tr>\n",
       "      <th>...</th>\n",
       "      <td>...</td>\n",
       "      <td>...</td>\n",
       "      <td>...</td>\n",
       "      <td>...</td>\n",
       "      <td>...</td>\n",
       "      <td>...</td>\n",
       "      <td>...</td>\n",
       "      <td>...</td>\n",
       "      <td>...</td>\n",
       "      <td>...</td>\n",
       "      <td>...</td>\n",
       "      <td>...</td>\n",
       "    </tr>\n",
       "    <tr>\n",
       "      <th>125</th>\n",
       "      <td>congo (kinshasa)</td>\n",
       "      <td>126</td>\n",
       "      <td>4.28000020981</td>\n",
       "      <td>4.35781083271</td>\n",
       "      <td>4.20218958691</td>\n",
       "      <td>0.0921023488045</td>\n",
       "      <td>1.22902345657</td>\n",
       "      <td>0.19140702486</td>\n",
       "      <td>0.235961347818</td>\n",
       "      <td>0.246455833316</td>\n",
       "      <td>0.060241356492</td>\n",
       "      <td>2.22495865822</td>\n",
       "    </tr>\n",
       "    <tr>\n",
       "      <th>126</th>\n",
       "      <td>mali</td>\n",
       "      <td>127</td>\n",
       "      <td>4.19000005722</td>\n",
       "      <td>4.26967071101</td>\n",
       "      <td>4.11032940343</td>\n",
       "      <td>0.476180493832</td>\n",
       "      <td>1.28147339821</td>\n",
       "      <td>0.169365674257</td>\n",
       "      <td>0.306613743305</td>\n",
       "      <td>0.183354198933</td>\n",
       "      <td>0.104970246553</td>\n",
       "      <td>1.66819095612</td>\n",
       "    </tr>\n",
       "    <tr>\n",
       "      <th>127</th>\n",
       "      <td>ivory coast</td>\n",
       "      <td>128</td>\n",
       "      <td>4.17999982834</td>\n",
       "      <td>4.27518256322</td>\n",
       "      <td>4.08481709346</td>\n",
       "      <td>0.603048920631</td>\n",
       "      <td>0.904780030251</td>\n",
       "      <td>0.0486421696842</td>\n",
       "      <td>0.447706192732</td>\n",
       "      <td>0.201237469912</td>\n",
       "      <td>0.130061775446</td>\n",
       "      <td>1.84496426582</td>\n",
       "    </tr>\n",
       "    <tr>\n",
       "      <th>128</th>\n",
       "      <td>cambodia</td>\n",
       "      <td>129</td>\n",
       "      <td>4.16800022125</td>\n",
       "      <td>4.27851781353</td>\n",
       "      <td>4.05748262897</td>\n",
       "      <td>0.601765096188</td>\n",
       "      <td>1.00623834133</td>\n",
       "      <td>0.429783403873</td>\n",
       "      <td>0.633375823498</td>\n",
       "      <td>0.385922968388</td>\n",
       "      <td>0.0681059509516</td>\n",
       "      <td>1.04294109344</td>\n",
       "    </tr>\n",
       "    <tr>\n",
       "      <th>129</th>\n",
       "      <td>sudan</td>\n",
       "      <td>130</td>\n",
       "      <td>4.13899993896</td>\n",
       "      <td>4.34574716508</td>\n",
       "      <td>3.93225271285</td>\n",
       "      <td>0.659516692162</td>\n",
       "      <td>1.21400856972</td>\n",
       "      <td>0.290920823812</td>\n",
       "      <td>0.0149958552793</td>\n",
       "      <td>0.182317450643</td>\n",
       "      <td>0.0898475199938</td>\n",
       "      <td>1.68706583977</td>\n",
       "    </tr>\n",
       "    <tr>\n",
       "      <th>130</th>\n",
       "      <td>ghana</td>\n",
       "      <td>131</td>\n",
       "      <td>4.11999988556</td>\n",
       "      <td>4.22270720854</td>\n",
       "      <td>4.01729256257</td>\n",
       "      <td>0.667224824429</td>\n",
       "      <td>0.873664736748</td>\n",
       "      <td>0.295637726784</td>\n",
       "      <td>0.423026293516</td>\n",
       "      <td>0.256923943758</td>\n",
       "      <td>0.0253363698721</td>\n",
       "      <td>1.57786750793</td>\n",
       "    </tr>\n",
       "    <tr>\n",
       "      <th>131</th>\n",
       "      <td>ukraine</td>\n",
       "      <td>132</td>\n",
       "      <td>4.09600019455</td>\n",
       "      <td>4.18541010454</td>\n",
       "      <td>4.00659028456</td>\n",
       "      <td>0.894651949406</td>\n",
       "      <td>1.39453756809</td>\n",
       "      <td>0.575903952122</td>\n",
       "      <td>0.122974775732</td>\n",
       "      <td>0.270061463118</td>\n",
       "      <td>0.0230294708163</td>\n",
       "      <td>0.814382314682</td>\n",
       "    </tr>\n",
       "    <tr>\n",
       "      <th>132</th>\n",
       "      <td>uganda</td>\n",
       "      <td>133</td>\n",
       "      <td>4.08099985123</td>\n",
       "      <td>4.19579996705</td>\n",
       "      <td>3.9661997354</td>\n",
       "      <td>0.381430715322</td>\n",
       "      <td>1.12982773781</td>\n",
       "      <td>0.217632606626</td>\n",
       "      <td>0.443185955286</td>\n",
       "      <td>0.325766056776</td>\n",
       "      <td>0.0570697188377</td>\n",
       "      <td>1.52636265755</td>\n",
       "    </tr>\n",
       "    <tr>\n",
       "      <th>133</th>\n",
       "      <td>burkina faso</td>\n",
       "      <td>134</td>\n",
       "      <td>4.03200006485</td>\n",
       "      <td>4.12405906439</td>\n",
       "      <td>3.93994106531</td>\n",
       "      <td>0.350227713585</td>\n",
       "      <td>1.04328000546</td>\n",
       "      <td>0.215844258666</td>\n",
       "      <td>0.324367851019</td>\n",
       "      <td>0.250864684582</td>\n",
       "      <td>0.120328105986</td>\n",
       "      <td>1.72721290588</td>\n",
       "    </tr>\n",
       "    <tr>\n",
       "      <th>134</th>\n",
       "      <td>niger</td>\n",
       "      <td>135</td>\n",
       "      <td>4.02799987793</td>\n",
       "      <td>4.11194681972</td>\n",
       "      <td>3.94405293614</td>\n",
       "      <td>0.161925330758</td>\n",
       "      <td>0.993025004864</td>\n",
       "      <td>0.268505007029</td>\n",
       "      <td>0.363658696413</td>\n",
       "      <td>0.22867384553</td>\n",
       "      <td>0.138572946191</td>\n",
       "      <td>1.87398338318</td>\n",
       "    </tr>\n",
       "    <tr>\n",
       "      <th>135</th>\n",
       "      <td>malawi</td>\n",
       "      <td>136</td>\n",
       "      <td>3.97000002861</td>\n",
       "      <td>4.0774788174</td>\n",
       "      <td>3.86252123982</td>\n",
       "      <td>0.233442038298</td>\n",
       "      <td>0.512568831444</td>\n",
       "      <td>0.315089583397</td>\n",
       "      <td>0.466914653778</td>\n",
       "      <td>0.287170469761</td>\n",
       "      <td>0.0727116540074</td>\n",
       "      <td>2.0817861557</td>\n",
       "    </tr>\n",
       "    <tr>\n",
       "      <th>136</th>\n",
       "      <td>chad</td>\n",
       "      <td>137</td>\n",
       "      <td>3.93600010872</td>\n",
       "      <td>4.03471152395</td>\n",
       "      <td>3.83728869349</td>\n",
       "      <td>0.438012987375</td>\n",
       "      <td>0.953855872154</td>\n",
       "      <td>0.0411347150803</td>\n",
       "      <td>0.16234202683</td>\n",
       "      <td>0.216113850474</td>\n",
       "      <td>0.0535818822682</td>\n",
       "      <td>2.07123804092</td>\n",
       "    </tr>\n",
       "    <tr>\n",
       "      <th>137</th>\n",
       "      <td>zimbabwe</td>\n",
       "      <td>138</td>\n",
       "      <td>3.875</td>\n",
       "      <td>3.97869964272</td>\n",
       "      <td>3.77130035728</td>\n",
       "      <td>0.375846534967</td>\n",
       "      <td>1.08309590816</td>\n",
       "      <td>0.196763753891</td>\n",
       "      <td>0.33638420701</td>\n",
       "      <td>0.189143493772</td>\n",
       "      <td>0.0953753814101</td>\n",
       "      <td>1.59797024727</td>\n",
       "    </tr>\n",
       "    <tr>\n",
       "      <th>138</th>\n",
       "      <td>lesotho</td>\n",
       "      <td>139</td>\n",
       "      <td>3.80800008774</td>\n",
       "      <td>4.04434397548</td>\n",
       "      <td>3.57165619999</td>\n",
       "      <td>0.52102124691</td>\n",
       "      <td>1.19009518623</td>\n",
       "      <td>0.0</td>\n",
       "      <td>0.390661299229</td>\n",
       "      <td>0.157497271895</td>\n",
       "      <td>0.119094640017</td>\n",
       "      <td>1.42983531952</td>\n",
       "    </tr>\n",
       "    <tr>\n",
       "      <th>139</th>\n",
       "      <td>angola</td>\n",
       "      <td>140</td>\n",
       "      <td>3.79500007629</td>\n",
       "      <td>3.95164193541</td>\n",
       "      <td>3.63835821718</td>\n",
       "      <td>0.858428180218</td>\n",
       "      <td>1.10441195965</td>\n",
       "      <td>0.0498686656356</td>\n",
       "      <td>0.0</td>\n",
       "      <td>0.0979264900088</td>\n",
       "      <td>0.0697203353047</td>\n",
       "      <td>1.6144824028</td>\n",
       "    </tr>\n",
       "    <tr>\n",
       "      <th>140</th>\n",
       "      <td>afghanistan</td>\n",
       "      <td>141</td>\n",
       "      <td>3.79399991035</td>\n",
       "      <td>3.87366141528</td>\n",
       "      <td>3.71433840543</td>\n",
       "      <td>0.401477217674</td>\n",
       "      <td>0.581543326378</td>\n",
       "      <td>0.180746778846</td>\n",
       "      <td>0.106179520488</td>\n",
       "      <td>0.311870932579</td>\n",
       "      <td>0.0611578300595</td>\n",
       "      <td>2.15080118179</td>\n",
       "    </tr>\n",
       "    <tr>\n",
       "      <th>141</th>\n",
       "      <td>botswana</td>\n",
       "      <td>142</td>\n",
       "      <td>3.76600003242</td>\n",
       "      <td>3.87412266627</td>\n",
       "      <td>3.65787739858</td>\n",
       "      <td>1.12209415436</td>\n",
       "      <td>1.22155499458</td>\n",
       "      <td>0.341755509377</td>\n",
       "      <td>0.505196332932</td>\n",
       "      <td>0.0993484482169</td>\n",
       "      <td>0.0985831990838</td>\n",
       "      <td>0.377913713455</td>\n",
       "    </tr>\n",
       "    <tr>\n",
       "      <th>142</th>\n",
       "      <td>benin</td>\n",
       "      <td>143</td>\n",
       "      <td>3.65700006485</td>\n",
       "      <td>3.74578355134</td>\n",
       "      <td>3.56821657836</td>\n",
       "      <td>0.431085407734</td>\n",
       "      <td>0.43529984355</td>\n",
       "      <td>0.209930211306</td>\n",
       "      <td>0.425962775946</td>\n",
       "      <td>0.207948461175</td>\n",
       "      <td>0.0609290152788</td>\n",
       "      <td>1.88563096523</td>\n",
       "    </tr>\n",
       "    <tr>\n",
       "      <th>143</th>\n",
       "      <td>madagascar</td>\n",
       "      <td>144</td>\n",
       "      <td>3.64400005341</td>\n",
       "      <td>3.71431910589</td>\n",
       "      <td>3.57368100092</td>\n",
       "      <td>0.305808693171</td>\n",
       "      <td>0.913020372391</td>\n",
       "      <td>0.375223308802</td>\n",
       "      <td>0.189196765423</td>\n",
       "      <td>0.208732530475</td>\n",
       "      <td>0.0672319754958</td>\n",
       "      <td>1.58461260796</td>\n",
       "    </tr>\n",
       "    <tr>\n",
       "      <th>144</th>\n",
       "      <td>haiti</td>\n",
       "      <td>145</td>\n",
       "      <td>3.60299992561</td>\n",
       "      <td>3.73471479774</td>\n",
       "      <td>3.47128505349</td>\n",
       "      <td>0.368610262871</td>\n",
       "      <td>0.640449821949</td>\n",
       "      <td>0.277321130037</td>\n",
       "      <td>0.0303698573261</td>\n",
       "      <td>0.48920378089</td>\n",
       "      <td>0.0998721495271</td>\n",
       "      <td>1.69716763496</td>\n",
       "    </tr>\n",
       "    <tr>\n",
       "      <th>145</th>\n",
       "      <td>yemen</td>\n",
       "      <td>146</td>\n",
       "      <td>3.59299993515</td>\n",
       "      <td>3.69275031984</td>\n",
       "      <td>3.49324955046</td>\n",
       "      <td>0.591683447361</td>\n",
       "      <td>0.935382246971</td>\n",
       "      <td>0.310080915689</td>\n",
       "      <td>0.24946372211</td>\n",
       "      <td>0.104125209153</td>\n",
       "      <td>0.0567674227059</td>\n",
       "      <td>1.34560060501</td>\n",
       "    </tr>\n",
       "    <tr>\n",
       "      <th>146</th>\n",
       "      <td>south sudan</td>\n",
       "      <td>147</td>\n",
       "      <td>3.59100008011</td>\n",
       "      <td>3.72553858578</td>\n",
       "      <td>3.45646157444</td>\n",
       "      <td>0.397248625755</td>\n",
       "      <td>0.601323127747</td>\n",
       "      <td>0.163486003876</td>\n",
       "      <td>0.147062435746</td>\n",
       "      <td>0.285670816898</td>\n",
       "      <td>0.116793513298</td>\n",
       "      <td>1.87956738472</td>\n",
       "    </tr>\n",
       "    <tr>\n",
       "      <th>147</th>\n",
       "      <td>liberia</td>\n",
       "      <td>148</td>\n",
       "      <td>3.53299999237</td>\n",
       "      <td>3.65375626087</td>\n",
       "      <td>3.41224372387</td>\n",
       "      <td>0.119041793048</td>\n",
       "      <td>0.872117936611</td>\n",
       "      <td>0.229918196797</td>\n",
       "      <td>0.332881182432</td>\n",
       "      <td>0.266549885273</td>\n",
       "      <td>0.0389482490718</td>\n",
       "      <td>1.67328596115</td>\n",
       "    </tr>\n",
       "    <tr>\n",
       "      <th>148</th>\n",
       "      <td>guinea</td>\n",
       "      <td>149</td>\n",
       "      <td>3.50699996948</td>\n",
       "      <td>3.5844281289</td>\n",
       "      <td>3.42957181007</td>\n",
       "      <td>0.244549930096</td>\n",
       "      <td>0.79124468565</td>\n",
       "      <td>0.194129139185</td>\n",
       "      <td>0.34858751297</td>\n",
       "      <td>0.264815092087</td>\n",
       "      <td>0.110937617719</td>\n",
       "      <td>1.55231189728</td>\n",
       "    </tr>\n",
       "    <tr>\n",
       "      <th>149</th>\n",
       "      <td>togo</td>\n",
       "      <td>150</td>\n",
       "      <td>3.49499988556</td>\n",
       "      <td>3.59403811172</td>\n",
       "      <td>3.3959616594</td>\n",
       "      <td>0.305444717407</td>\n",
       "      <td>0.431882530451</td>\n",
       "      <td>0.247105568647</td>\n",
       "      <td>0.380426138639</td>\n",
       "      <td>0.196896150708</td>\n",
       "      <td>0.0956650152802</td>\n",
       "      <td>1.83722925186</td>\n",
       "    </tr>\n",
       "    <tr>\n",
       "      <th>150</th>\n",
       "      <td>rwanda</td>\n",
       "      <td>151</td>\n",
       "      <td>3.47099995613</td>\n",
       "      <td>3.54303023353</td>\n",
       "      <td>3.39896967873</td>\n",
       "      <td>0.36874589324</td>\n",
       "      <td>0.945707023144</td>\n",
       "      <td>0.32642480731</td>\n",
       "      <td>0.581843852997</td>\n",
       "      <td>0.252756029367</td>\n",
       "      <td>0.455220013857</td>\n",
       "      <td>0.540061235428</td>\n",
       "    </tr>\n",
       "    <tr>\n",
       "      <th>151</th>\n",
       "      <td>syria</td>\n",
       "      <td>152</td>\n",
       "      <td>3.46199989319</td>\n",
       "      <td>3.66366855681</td>\n",
       "      <td>3.26033122957</td>\n",
       "      <td>0.777153134346</td>\n",
       "      <td>0.39610260725</td>\n",
       "      <td>0.500533342361</td>\n",
       "      <td>0.0815394446254</td>\n",
       "      <td>0.493663728237</td>\n",
       "      <td>0.151347130537</td>\n",
       "      <td>1.0615735054</td>\n",
       "    </tr>\n",
       "    <tr>\n",
       "      <th>152</th>\n",
       "      <td>tanzania</td>\n",
       "      <td>153</td>\n",
       "      <td>3.34899997711</td>\n",
       "      <td>3.46142975539</td>\n",
       "      <td>3.23657019883</td>\n",
       "      <td>0.511135876179</td>\n",
       "      <td>1.04198980331</td>\n",
       "      <td>0.364509284496</td>\n",
       "      <td>0.390017777681</td>\n",
       "      <td>0.354256361723</td>\n",
       "      <td>0.0660351067781</td>\n",
       "      <td>0.621130466461</td>\n",
       "    </tr>\n",
       "    <tr>\n",
       "      <th>153</th>\n",
       "      <td>burundi</td>\n",
       "      <td>154</td>\n",
       "      <td>2.90499997139</td>\n",
       "      <td>3.07469033301</td>\n",
       "      <td>2.73530960977</td>\n",
       "      <td>0.0916225686669</td>\n",
       "      <td>0.629793584347</td>\n",
       "      <td>0.151610791683</td>\n",
       "      <td>0.0599007532001</td>\n",
       "      <td>0.204435184598</td>\n",
       "      <td>0.0841479450464</td>\n",
       "      <td>1.68302416801</td>\n",
       "    </tr>\n",
       "    <tr>\n",
       "      <th>154</th>\n",
       "      <td>central african republic</td>\n",
       "      <td>155</td>\n",
       "      <td>2.6930000782</td>\n",
       "      <td>2.86488426924</td>\n",
       "      <td>2.52111588717</td>\n",
       "      <td>0.0</td>\n",
       "      <td>0.0</td>\n",
       "      <td>0.0187726859003</td>\n",
       "      <td>0.270842045546</td>\n",
       "      <td>0.280876487494</td>\n",
       "      <td>0.0565650761127</td>\n",
       "      <td>2.06600475311</td>\n",
       "    </tr>\n",
       "  </tbody>\n",
       "</table>\n",
       "<p>155 rows × 12 columns</p>\n",
       "</div>"
      ],
      "text/plain": [
       "                      country happiness.rank happiness.score   whisker.high  \\\n",
       "0                      norway              1   7.53700017929  7.59444482058   \n",
       "1                     denmark              2   7.52199983597  7.58172806486   \n",
       "2                     iceland              3   7.50400018692  7.62203047305   \n",
       "3                 switzerland              4   7.49399995804  7.56177242041   \n",
       "4                     finland              5   7.46899986267  7.52754207581   \n",
       "5                 netherlands              6   7.37699985504  7.42742584124   \n",
       "6                      canada              7   7.31599998474  7.38440283537   \n",
       "7                 new zealand              8    7.3140001297  7.37951044187   \n",
       "8                      sweden              9   7.28399991989  7.34409487739   \n",
       "9                   australia             10   7.28399991989  7.35665122494   \n",
       "10                     israel             11   7.21299982071  7.27985325649   \n",
       "11                 costa rica             12   7.07899999619  7.16811166629   \n",
       "12                    austria             13   7.00600004196  7.07066981211   \n",
       "13              united states             14   6.99300003052  7.07465674758   \n",
       "14                    ireland             15   6.97700023651  7.04335166752   \n",
       "15                    germany             16   6.95100021362  7.00538156927   \n",
       "16                    belgium             17   6.89099979401  6.95582075045   \n",
       "17                 luxembourg             18   6.86299991608  6.92368609987   \n",
       "18             united kingdom             19   6.71400022507   6.7837917611   \n",
       "19                      chile             20   6.65199995041   6.7392505601   \n",
       "20       united arab emirates             21   6.64799976349  6.72204730377   \n",
       "21                     brazil             22   6.63500022888  6.72546950161   \n",
       "22             czech republic             23   6.60900020599  6.68386246264   \n",
       "23                  argentina             24   6.59899997711  6.69008508608   \n",
       "24                     mexico             25   6.57800006866  6.67114890769   \n",
       "25                  singapore             26    6.5720000267   6.6367230691   \n",
       "26                      malta             27   6.52699995041  6.59839677289   \n",
       "27                    uruguay             28   6.45399999619  6.54590621769   \n",
       "28                  guatemala             29   6.45399999619  6.56687397271   \n",
       "29                     panama             30   6.45200014114  6.55713071615   \n",
       "..                        ...            ...             ...            ...   \n",
       "125          congo (kinshasa)            126   4.28000020981  4.35781083271   \n",
       "126                      mali            127   4.19000005722  4.26967071101   \n",
       "127               ivory coast            128   4.17999982834  4.27518256322   \n",
       "128                  cambodia            129   4.16800022125  4.27851781353   \n",
       "129                     sudan            130   4.13899993896  4.34574716508   \n",
       "130                     ghana            131   4.11999988556  4.22270720854   \n",
       "131                   ukraine            132   4.09600019455  4.18541010454   \n",
       "132                    uganda            133   4.08099985123  4.19579996705   \n",
       "133              burkina faso            134   4.03200006485  4.12405906439   \n",
       "134                     niger            135   4.02799987793  4.11194681972   \n",
       "135                    malawi            136   3.97000002861   4.0774788174   \n",
       "136                      chad            137   3.93600010872  4.03471152395   \n",
       "137                  zimbabwe            138           3.875  3.97869964272   \n",
       "138                   lesotho            139   3.80800008774  4.04434397548   \n",
       "139                    angola            140   3.79500007629  3.95164193541   \n",
       "140               afghanistan            141   3.79399991035  3.87366141528   \n",
       "141                  botswana            142   3.76600003242  3.87412266627   \n",
       "142                     benin            143   3.65700006485  3.74578355134   \n",
       "143                madagascar            144   3.64400005341  3.71431910589   \n",
       "144                     haiti            145   3.60299992561  3.73471479774   \n",
       "145                     yemen            146   3.59299993515  3.69275031984   \n",
       "146               south sudan            147   3.59100008011  3.72553858578   \n",
       "147                   liberia            148   3.53299999237  3.65375626087   \n",
       "148                    guinea            149   3.50699996948   3.5844281289   \n",
       "149                      togo            150   3.49499988556  3.59403811172   \n",
       "150                    rwanda            151   3.47099995613  3.54303023353   \n",
       "151                     syria            152   3.46199989319  3.66366855681   \n",
       "152                  tanzania            153   3.34899997711  3.46142975539   \n",
       "153                   burundi            154   2.90499997139  3.07469033301   \n",
       "154  central african republic            155    2.6930000782  2.86488426924   \n",
       "\n",
       "       whisker.low economy..gdp.per.capita.          family  \\\n",
       "0      7.479555538            1.61646318436   1.53352355957   \n",
       "1    7.46227160707            1.48238301277   1.55112159252   \n",
       "2    7.38596990079             1.4806330204   1.61057400703   \n",
       "3    7.42622749567            1.56497955322   1.51691174507   \n",
       "4    7.41045764953            1.44357192516   1.54024672508   \n",
       "5    7.32657386884            1.50394463539   1.42893922329   \n",
       "6    7.24759713411            1.47920441628   1.48134899139   \n",
       "7    7.24848981753            1.40570604801   1.54819512367   \n",
       "8    7.22390496239            1.49438726902   1.47816216946   \n",
       "9    7.21134861484            1.48441493511   1.51004195213   \n",
       "10   7.14614638492             1.3753824234   1.37628996372   \n",
       "11   6.98988832608            1.10970628262   1.41640365124   \n",
       "12   6.94133027181            1.48709726334   1.45994496346   \n",
       "13   6.91134331346            1.54625928402    1.4199205637   \n",
       "14    6.9106488055            1.53570663929   1.55823111534   \n",
       "15   6.89661885798            1.48792338371   1.47252035141   \n",
       "16   6.82617883757            1.46378076077   1.46231269836   \n",
       "17   6.80231373228            1.74194359779   1.45758366585   \n",
       "18   6.64420868903            1.44163393974   1.49646008015   \n",
       "19   6.56474934071            1.25278460979   1.28402495384   \n",
       "20   6.57395222321            1.62634336948   1.26641023159   \n",
       "21   6.54453095615            1.10735321045   1.43130600452   \n",
       "22   6.53413794935            1.35268235207   1.43388521671   \n",
       "23   6.50791486815            1.18529546261   1.44045114517   \n",
       "24   6.48485122964            1.15318381786   1.21086215973   \n",
       "25    6.5072769843            1.69227766991   1.35381436348   \n",
       "26   6.45560312793            1.34327983856   1.48841166496   \n",
       "27   6.36209377468            1.21755969524   1.41222786903   \n",
       "28   6.34112601966           0.872001945972   1.25558519363   \n",
       "29   6.34686956614            1.23374843597   1.37319254875   \n",
       "..             ...                      ...             ...   \n",
       "125  4.20218958691          0.0921023488045   1.22902345657   \n",
       "126  4.11032940343           0.476180493832   1.28147339821   \n",
       "127  4.08481709346           0.603048920631  0.904780030251   \n",
       "128  4.05748262897           0.601765096188   1.00623834133   \n",
       "129  3.93225271285           0.659516692162   1.21400856972   \n",
       "130  4.01729256257           0.667224824429  0.873664736748   \n",
       "131  4.00659028456           0.894651949406   1.39453756809   \n",
       "132   3.9661997354           0.381430715322   1.12982773781   \n",
       "133  3.93994106531           0.350227713585   1.04328000546   \n",
       "134  3.94405293614           0.161925330758  0.993025004864   \n",
       "135  3.86252123982           0.233442038298  0.512568831444   \n",
       "136  3.83728869349           0.438012987375  0.953855872154   \n",
       "137  3.77130035728           0.375846534967   1.08309590816   \n",
       "138  3.57165619999            0.52102124691   1.19009518623   \n",
       "139  3.63835821718           0.858428180218   1.10441195965   \n",
       "140  3.71433840543           0.401477217674  0.581543326378   \n",
       "141  3.65787739858            1.12209415436   1.22155499458   \n",
       "142  3.56821657836           0.431085407734   0.43529984355   \n",
       "143  3.57368100092           0.305808693171  0.913020372391   \n",
       "144  3.47128505349           0.368610262871  0.640449821949   \n",
       "145  3.49324955046           0.591683447361  0.935382246971   \n",
       "146  3.45646157444           0.397248625755  0.601323127747   \n",
       "147  3.41224372387           0.119041793048  0.872117936611   \n",
       "148  3.42957181007           0.244549930096   0.79124468565   \n",
       "149   3.3959616594           0.305444717407  0.431882530451   \n",
       "150  3.39896967873            0.36874589324  0.945707023144   \n",
       "151  3.26033122957           0.777153134346   0.39610260725   \n",
       "152  3.23657019883           0.511135876179   1.04198980331   \n",
       "153  2.73530960977          0.0916225686669  0.629793584347   \n",
       "154  2.52111588717                      0.0             0.0   \n",
       "\n",
       "    health..life.expectancy.          freedom       generosity  \\\n",
       "0             0.796666502953   0.635422587395    0.36201223731   \n",
       "1             0.792565524578    0.62600672245   0.355280488729   \n",
       "2             0.833552122116   0.627162635326   0.475540220737   \n",
       "3             0.858131289482   0.620070576668   0.290549278259   \n",
       "4             0.809157669544   0.617950856686   0.245482772589   \n",
       "5             0.810696125031   0.585384488106   0.470489829779   \n",
       "6             0.834557652473   0.611100912094   0.435539722443   \n",
       "7             0.816759705544   0.614062130451   0.500005125999   \n",
       "8              0.83087515831   0.612924098969   0.385399252176   \n",
       "9              0.84388679266   0.601607382298   0.477699249983   \n",
       "10            0.838403999805    0.40598860383   0.330082654953   \n",
       "11            0.759509265423   0.580131649971   0.214613229036   \n",
       "12            0.815328419209   0.567766189575   0.316472321749   \n",
       "13            0.774286627769   0.505740523338   0.392578780651   \n",
       "14            0.809782624245   0.573110342026   0.427858322859   \n",
       "15            0.798950731754   0.562511384487   0.336269170046   \n",
       "16            0.818091869354   0.539770722389   0.231503337622   \n",
       "17            0.845089495182   0.596627891064   0.283180981874   \n",
       "18            0.805335938931    0.50819003582   0.492774158716   \n",
       "19            0.819479703903   0.376895278692   0.326662421227   \n",
       "20             0.72679823637   0.608345270157   0.360941946507   \n",
       "21            0.616552352905   0.437453746796   0.162349894643   \n",
       "22            0.754444003105   0.490946173668  0.0881067588925   \n",
       "23             0.69513708353   0.494519203901   0.109457060695   \n",
       "24            0.709978997707   0.412730008364   0.120990432799   \n",
       "25            0.949492394924   0.549840569496   0.345965981483   \n",
       "26            0.821944236755   0.588767051697   0.574730575085   \n",
       "27            0.719216823578   0.579392254353   0.175096929073   \n",
       "28            0.540239989758   0.531310617924    0.28348839283   \n",
       "29            0.706156134605   0.550026834011   0.210556939244   \n",
       "..                       ...              ...              ...   \n",
       "125            0.19140702486   0.235961347818   0.246455833316   \n",
       "126           0.169365674257   0.306613743305   0.183354198933   \n",
       "127          0.0486421696842   0.447706192732   0.201237469912   \n",
       "128           0.429783403873   0.633375823498   0.385922968388   \n",
       "129           0.290920823812  0.0149958552793   0.182317450643   \n",
       "130           0.295637726784   0.423026293516   0.256923943758   \n",
       "131           0.575903952122   0.122974775732   0.270061463118   \n",
       "132           0.217632606626   0.443185955286   0.325766056776   \n",
       "133           0.215844258666   0.324367851019   0.250864684582   \n",
       "134           0.268505007029   0.363658696413    0.22867384553   \n",
       "135           0.315089583397   0.466914653778   0.287170469761   \n",
       "136          0.0411347150803    0.16234202683   0.216113850474   \n",
       "137           0.196763753891    0.33638420701   0.189143493772   \n",
       "138                      0.0   0.390661299229   0.157497271895   \n",
       "139          0.0498686656356              0.0  0.0979264900088   \n",
       "140           0.180746778846   0.106179520488   0.311870932579   \n",
       "141           0.341755509377   0.505196332932  0.0993484482169   \n",
       "142           0.209930211306   0.425962775946   0.207948461175   \n",
       "143           0.375223308802   0.189196765423   0.208732530475   \n",
       "144           0.277321130037  0.0303698573261    0.48920378089   \n",
       "145           0.310080915689    0.24946372211   0.104125209153   \n",
       "146           0.163486003876   0.147062435746   0.285670816898   \n",
       "147           0.229918196797   0.332881182432   0.266549885273   \n",
       "148           0.194129139185    0.34858751297   0.264815092087   \n",
       "149           0.247105568647   0.380426138639   0.196896150708   \n",
       "150            0.32642480731   0.581843852997   0.252756029367   \n",
       "151           0.500533342361  0.0815394446254   0.493663728237   \n",
       "152           0.364509284496   0.390017777681   0.354256361723   \n",
       "153           0.151610791683  0.0599007532001   0.204435184598   \n",
       "154          0.0187726859003   0.270842045546   0.280876487494   \n",
       "\n",
       "    trust..government.corruption. dystopia.residual  \n",
       "0                  0.315963834524     2.27702665329  \n",
       "1                  0.400770068169     2.31370735168  \n",
       "2                  0.153526559472     2.32271528244  \n",
       "3                  0.367007285357      2.2767162323  \n",
       "4                   0.38261154294      2.4301815033  \n",
       "5                  0.282661825418     2.29480409622  \n",
       "6                  0.287371516228     2.18726444244  \n",
       "7                  0.382816702127     2.04645633698  \n",
       "8                  0.384398728609     2.09753799438  \n",
       "9                  0.301183730364     2.06521081924  \n",
       "10                  0.08524210006     2.80175733566  \n",
       "11                 0.100106589496     2.89863920212  \n",
       "12                 0.221060365438     2.13850641251  \n",
       "13                 0.135638788342     2.21811342239  \n",
       "14                 0.298388153315     1.77386903763  \n",
       "15                 0.276731938124      2.0157699585  \n",
       "16                 0.251343131065     2.12421035767  \n",
       "17                 0.318834424019     1.61951208115  \n",
       "18                 0.265428066254     1.70414352417  \n",
       "19                0.0822879821062     2.50958585739  \n",
       "20                 0.324489563704      1.7347035408  \n",
       "21                 0.111092761159     2.76926708221  \n",
       "22                0.0368729270995     2.45186185837  \n",
       "23                0.0597398877144     2.61400532722  \n",
       "24                 0.132774114609     2.83715486526  \n",
       "25                 0.464307785034     1.21636199951  \n",
       "26                 0.153066068888     1.55686283112  \n",
       "27                 0.178061872721     2.17240953445  \n",
       "28                0.0772232785821     2.89389109612  \n",
       "29                0.0709839239717     2.30719995499  \n",
       "..                            ...               ...  \n",
       "125                0.060241356492     2.22495865822  \n",
       "126                0.104970246553     1.66819095612  \n",
       "127                0.130061775446     1.84496426582  \n",
       "128               0.0681059509516     1.04294109344  \n",
       "129               0.0898475199938     1.68706583977  \n",
       "130               0.0253363698721     1.57786750793  \n",
       "131               0.0230294708163    0.814382314682  \n",
       "132               0.0570697188377     1.52636265755  \n",
       "133                0.120328105986     1.72721290588  \n",
       "134                0.138572946191     1.87398338318  \n",
       "135               0.0727116540074      2.0817861557  \n",
       "136               0.0535818822682     2.07123804092  \n",
       "137               0.0953753814101     1.59797024727  \n",
       "138                0.119094640017     1.42983531952  \n",
       "139               0.0697203353047      1.6144824028  \n",
       "140               0.0611578300595     2.15080118179  \n",
       "141               0.0985831990838    0.377913713455  \n",
       "142               0.0609290152788     1.88563096523  \n",
       "143               0.0672319754958     1.58461260796  \n",
       "144               0.0998721495271     1.69716763496  \n",
       "145               0.0567674227059     1.34560060501  \n",
       "146                0.116793513298     1.87956738472  \n",
       "147               0.0389482490718     1.67328596115  \n",
       "148                0.110937617719     1.55231189728  \n",
       "149               0.0956650152802     1.83722925186  \n",
       "150                0.455220013857    0.540061235428  \n",
       "151                0.151347130537      1.0615735054  \n",
       "152               0.0660351067781    0.621130466461  \n",
       "153               0.0841479450464     1.68302416801  \n",
       "154               0.0565650761127     2.06600475311  \n",
       "\n",
       "[155 rows x 12 columns]"
      ]
     },
     "execution_count": 93,
     "metadata": {},
     "output_type": "execute_result"
    }
   ],
   "source": [
    "path.apply(lambda x: x.astype(str).str.lower())"
   ]
  },
  {
   "cell_type": "code",
   "execution_count": 100,
   "metadata": {
    "collapsed": true
   },
   "outputs": [],
   "source": [
    "data = path.drop(\"country\", axis=1).head()"
   ]
  },
  {
   "cell_type": "code",
   "execution_count": 101,
   "metadata": {
    "collapsed": true
   },
   "outputs": [],
   "source": [
    "pca =   PCA(2) \n",
    "\n",
    "data_pca = pca.fit_transform(data)"
   ]
  },
  {
   "cell_type": "code",
   "execution_count": null,
   "metadata": {
    "collapsed": true
   },
   "outputs": [],
   "source": []
  },
  {
   "cell_type": "code",
   "execution_count": null,
   "metadata": {
    "collapsed": true
   },
   "outputs": [],
   "source": []
  }
 ],
 "metadata": {
  "kernelspec": {
   "display_name": "Python 3",
   "language": "python",
   "name": "python3"
  },
  "language_info": {
   "codemirror_mode": {
    "name": "ipython",
    "version": 3
   },
   "file_extension": ".py",
   "mimetype": "text/x-python",
   "name": "python",
   "nbconvert_exporter": "python",
   "pygments_lexer": "ipython3",
   "version": "3.6.3"
  }
 },
 "nbformat": 4,
 "nbformat_minor": 2
}
